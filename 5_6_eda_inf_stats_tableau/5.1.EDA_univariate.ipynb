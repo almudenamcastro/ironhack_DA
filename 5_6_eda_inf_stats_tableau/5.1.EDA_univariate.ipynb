{
 "cells": [
  {
   "cell_type": "markdown",
   "id": "affefcbc-d980-401d-a342-5bf3ae125480",
   "metadata": {
    "tags": []
   },
   "source": [
    "# Exploratory Data Analysis (EDA) with Housing Price Dataset\n",
    "\n",
    "Exploratory Data Analysis (EDA) is a crucial step in the data analysis pipeline. It helps us understand the data, discover patterns, spot anomalies, and frame hypotheses. In this lesson, we'll use a housing price dataset to explore various EDA techniques."
   ]
  },
  {
   "cell_type": "markdown",
   "id": "3cc3e65f-dcb9-43ea-8dc7-74829a6204ee",
   "metadata": {},
   "source": [
    "## Initial Steps for Data Analysis"
   ]
  },
  {
   "cell_type": "markdown",
   "id": "65704bf4-cf6e-443f-af0d-2e5fcac5a5a9",
   "metadata": {},
   "source": [
    "The initial steps for data analysis in Python include:\n",
    "\n",
    "1. **Data Acquisition:** This involves gathering data from various sources such as local files, databases, APIs, websites, etc.\n",
    " \n",
    "2. **Loading the Data:** Common formats to consider are CSV (Comma Separated Values), JSON, XLS, HTML, XML, and more.\n",
    "\n",
    "3. **Exploratory Data Analysis (EDA):** EDA is a systematic approach to initial data inspection. It leverages **descriptive analysis** techniques to understand the data better, identify outliers, highlight significant variables, and generally uncover underlying data patterns. Additionally, EDA helps in organizing the data, spotting errors, and assessing missing values.\n",
    "\n",
    "4. **Data Cleaning:** It's crucial to check the available data and perform tasks such as removing empty columns, standardizing terms, imputing missing data where appropriate, and more.\n",
    "\n",
    "5. After cleaning, you should conduct a more in-depth exploratory data analysis to further understand the data."
   ]
  },
  {
   "cell_type": "markdown",
   "id": "3350b116-324f-4dee-b416-9c98cbdb81c6",
   "metadata": {},
   "source": [
    "## Methods in EDA\n",
    "\n",
    "EDA methodologies can be broadly categorized into:\n",
    "\n",
    "- **Numerical Measures:** These can include coefficients, frequency counts, and other statistical metrics.\n",
    "  \n",
    "- **Visual Representations:** Examples are histograms, scatter plots, pie charts, and more.\n",
    "\n",
    "Additionally, based on the number of variables in focus, methods can be:\n",
    "\n",
    "- **Univariate:** Describing the characteristics of a single variable at a time.\n",
    "  \n",
    "- **Bivariate:** Analyzing the relationship between two variables, either in tandem or understanding one variable based on the other (examining the influence of one independent variable in relation to the dependent variable).\n",
    "  \n",
    "- **Multivariate:** An extension of bivariate analysis but for multiple variables. It explores the relationships among them or the impact of two or more independent variables (sometimes along with associated variables or covariates) on one or more dependent variables.\n",
    "\n",
    "**Note:**\n",
    "It's crucial to ensure that all our analytical methods are tailored to the type of variable under consideration.\n"
   ]
  },
  {
   "cell_type": "markdown",
   "id": "c67de913-bcf2-4628-89c0-94fc3ce4535d",
   "metadata": {},
   "source": [
    "## Loading the Dataset\n",
    "\n",
    "Before we dive into EDA, let's gather our data. In this case, we will load our dataset and take a quick look at its structure.\n"
   ]
  },
  {
   "cell_type": "markdown",
   "id": "8c874862-45f3-4242-b1b7-864ba3c4ceac",
   "metadata": {},
   "source": [
    "The dataset can be found [here](https://raw.githubusercontent.com/data-bootcamp-v4/data/main/housing_price_eda.csv) and the information about the dataset [here](https://github.com/data-bootcamp-v4/data/blob/main/housing_price_dataset_info.md)."
   ]
  },
  {
   "cell_type": "code",
   "execution_count": 1,
   "id": "a24a189e-9d1d-4d12-bc5c-33f50c4de1a0",
   "metadata": {},
   "outputs": [],
   "source": [
    "import pandas as pd\n",
    "import matplotlib.pyplot as plt\n",
    "import seaborn as sns\n",
    "import numpy as np\n",
    "\n",
    "%matplotlib inline"
   ]
  },
  {
   "cell_type": "code",
   "execution_count": 2,
   "id": "198e6c16-b2a9-48e2-a436-f45846226e23",
   "metadata": {},
   "outputs": [],
   "source": [
    "# Loading the housing price dataset (assuming the file name is \"housing_price.csv\")\n",
    "df = pd.read_csv(\"https://raw.githubusercontent.com/data-bootcamp-v4/data/main/housing_price_eda.csv\")"
   ]
  },
  {
   "cell_type": "markdown",
   "id": "dca70225-3478-4642-a093-13a5e35a5770",
   "metadata": {},
   "source": [
    "## Initial Exploration"
   ]
  },
  {
   "cell_type": "markdown",
   "id": "f23ec05d-e1cb-4fce-9254-3971ac438a5b",
   "metadata": {},
   "source": [
    "Before diving into the specifics of univariate analysis, it's essential to get acquainted with our dataset.\n"
   ]
  },
  {
   "cell_type": "code",
   "execution_count": 3,
   "id": "74cee01d-cdc8-4407-80e0-6ce2a8d4405e",
   "metadata": {
    "id": "f0BcwWCfkTQR",
    "outputId": "72c16c61-79a9-4309-c177-c24529bbc3cb"
   },
   "outputs": [
    {
     "data": {
      "text/html": [
       "<div>\n",
       "<style scoped>\n",
       "    .dataframe tbody tr th:only-of-type {\n",
       "        vertical-align: middle;\n",
       "    }\n",
       "\n",
       "    .dataframe tbody tr th {\n",
       "        vertical-align: top;\n",
       "    }\n",
       "\n",
       "    .dataframe thead th {\n",
       "        text-align: right;\n",
       "    }\n",
       "</style>\n",
       "<table border=\"1\" class=\"dataframe\">\n",
       "  <thead>\n",
       "    <tr style=\"text-align: right;\">\n",
       "      <th></th>\n",
       "      <th>Id</th>\n",
       "      <th>MSSubClass</th>\n",
       "      <th>MSZoning</th>\n",
       "      <th>LotFrontage</th>\n",
       "      <th>LotArea</th>\n",
       "      <th>Street</th>\n",
       "      <th>Alley</th>\n",
       "      <th>LotShape</th>\n",
       "      <th>LandContour</th>\n",
       "      <th>Utilities</th>\n",
       "      <th>...</th>\n",
       "      <th>PoolArea</th>\n",
       "      <th>PoolQC</th>\n",
       "      <th>Fence</th>\n",
       "      <th>MiscFeature</th>\n",
       "      <th>MiscVal</th>\n",
       "      <th>MoSold</th>\n",
       "      <th>YrSold</th>\n",
       "      <th>SaleType</th>\n",
       "      <th>SaleCondition</th>\n",
       "      <th>SalePrice</th>\n",
       "    </tr>\n",
       "  </thead>\n",
       "  <tbody>\n",
       "    <tr>\n",
       "      <th>0</th>\n",
       "      <td>1</td>\n",
       "      <td>60</td>\n",
       "      <td>RL</td>\n",
       "      <td>65.0</td>\n",
       "      <td>8450</td>\n",
       "      <td>Pave</td>\n",
       "      <td>NaN</td>\n",
       "      <td>Reg</td>\n",
       "      <td>Lvl</td>\n",
       "      <td>AllPub</td>\n",
       "      <td>...</td>\n",
       "      <td>0</td>\n",
       "      <td>NaN</td>\n",
       "      <td>NaN</td>\n",
       "      <td>NaN</td>\n",
       "      <td>0</td>\n",
       "      <td>2</td>\n",
       "      <td>2008</td>\n",
       "      <td>WD</td>\n",
       "      <td>Normal</td>\n",
       "      <td>208500</td>\n",
       "    </tr>\n",
       "    <tr>\n",
       "      <th>1</th>\n",
       "      <td>2</td>\n",
       "      <td>20</td>\n",
       "      <td>RL</td>\n",
       "      <td>80.0</td>\n",
       "      <td>9600</td>\n",
       "      <td>Pave</td>\n",
       "      <td>NaN</td>\n",
       "      <td>Reg</td>\n",
       "      <td>Lvl</td>\n",
       "      <td>AllPub</td>\n",
       "      <td>...</td>\n",
       "      <td>0</td>\n",
       "      <td>NaN</td>\n",
       "      <td>NaN</td>\n",
       "      <td>NaN</td>\n",
       "      <td>0</td>\n",
       "      <td>5</td>\n",
       "      <td>2007</td>\n",
       "      <td>WD</td>\n",
       "      <td>Normal</td>\n",
       "      <td>181500</td>\n",
       "    </tr>\n",
       "    <tr>\n",
       "      <th>2</th>\n",
       "      <td>3</td>\n",
       "      <td>60</td>\n",
       "      <td>RL</td>\n",
       "      <td>68.0</td>\n",
       "      <td>11250</td>\n",
       "      <td>Pave</td>\n",
       "      <td>NaN</td>\n",
       "      <td>IR1</td>\n",
       "      <td>Lvl</td>\n",
       "      <td>AllPub</td>\n",
       "      <td>...</td>\n",
       "      <td>0</td>\n",
       "      <td>NaN</td>\n",
       "      <td>NaN</td>\n",
       "      <td>NaN</td>\n",
       "      <td>0</td>\n",
       "      <td>9</td>\n",
       "      <td>2008</td>\n",
       "      <td>WD</td>\n",
       "      <td>Normal</td>\n",
       "      <td>223500</td>\n",
       "    </tr>\n",
       "    <tr>\n",
       "      <th>3</th>\n",
       "      <td>4</td>\n",
       "      <td>70</td>\n",
       "      <td>RL</td>\n",
       "      <td>60.0</td>\n",
       "      <td>9550</td>\n",
       "      <td>Pave</td>\n",
       "      <td>NaN</td>\n",
       "      <td>IR1</td>\n",
       "      <td>Lvl</td>\n",
       "      <td>AllPub</td>\n",
       "      <td>...</td>\n",
       "      <td>0</td>\n",
       "      <td>NaN</td>\n",
       "      <td>NaN</td>\n",
       "      <td>NaN</td>\n",
       "      <td>0</td>\n",
       "      <td>2</td>\n",
       "      <td>2006</td>\n",
       "      <td>WD</td>\n",
       "      <td>Abnorml</td>\n",
       "      <td>140000</td>\n",
       "    </tr>\n",
       "    <tr>\n",
       "      <th>4</th>\n",
       "      <td>5</td>\n",
       "      <td>60</td>\n",
       "      <td>RL</td>\n",
       "      <td>84.0</td>\n",
       "      <td>14260</td>\n",
       "      <td>Pave</td>\n",
       "      <td>NaN</td>\n",
       "      <td>IR1</td>\n",
       "      <td>Lvl</td>\n",
       "      <td>AllPub</td>\n",
       "      <td>...</td>\n",
       "      <td>0</td>\n",
       "      <td>NaN</td>\n",
       "      <td>NaN</td>\n",
       "      <td>NaN</td>\n",
       "      <td>0</td>\n",
       "      <td>12</td>\n",
       "      <td>2008</td>\n",
       "      <td>WD</td>\n",
       "      <td>Normal</td>\n",
       "      <td>250000</td>\n",
       "    </tr>\n",
       "  </tbody>\n",
       "</table>\n",
       "<p>5 rows × 81 columns</p>\n",
       "</div>"
      ],
      "text/plain": [
       "   Id  MSSubClass MSZoning  LotFrontage  LotArea Street Alley LotShape  \\\n",
       "0   1          60       RL         65.0     8450   Pave   NaN      Reg   \n",
       "1   2          20       RL         80.0     9600   Pave   NaN      Reg   \n",
       "2   3          60       RL         68.0    11250   Pave   NaN      IR1   \n",
       "3   4          70       RL         60.0     9550   Pave   NaN      IR1   \n",
       "4   5          60       RL         84.0    14260   Pave   NaN      IR1   \n",
       "\n",
       "  LandContour Utilities  ... PoolArea PoolQC Fence MiscFeature MiscVal MoSold  \\\n",
       "0         Lvl    AllPub  ...        0    NaN   NaN         NaN       0      2   \n",
       "1         Lvl    AllPub  ...        0    NaN   NaN         NaN       0      5   \n",
       "2         Lvl    AllPub  ...        0    NaN   NaN         NaN       0      9   \n",
       "3         Lvl    AllPub  ...        0    NaN   NaN         NaN       0      2   \n",
       "4         Lvl    AllPub  ...        0    NaN   NaN         NaN       0     12   \n",
       "\n",
       "  YrSold  SaleType  SaleCondition  SalePrice  \n",
       "0   2008        WD         Normal     208500  \n",
       "1   2007        WD         Normal     181500  \n",
       "2   2008        WD         Normal     223500  \n",
       "3   2006        WD        Abnorml     140000  \n",
       "4   2008        WD         Normal     250000  \n",
       "\n",
       "[5 rows x 81 columns]"
      ]
     },
     "execution_count": 3,
     "metadata": {},
     "output_type": "execute_result"
    }
   ],
   "source": [
    "# Display the first few rows of the dataset\n",
    "df.head()"
   ]
  },
  {
   "cell_type": "code",
   "execution_count": 4,
   "id": "6fd2ca93-68e9-4569-a472-30bcf88f7abf",
   "metadata": {
    "id": "nbcdOIuekTQR",
    "outputId": "192d7c46-8fd4-4ec0-aea6-07fda7328711"
   },
   "outputs": [
    {
     "data": {
      "text/plain": [
       "(1460, 81)"
      ]
     },
     "execution_count": 4,
     "metadata": {},
     "output_type": "execute_result"
    }
   ],
   "source": [
    "# Retrieving the number of rows and columns in the dataframe\n",
    "df.shape"
   ]
  },
  {
   "cell_type": "code",
   "execution_count": 5,
   "id": "6f1406cf-6a8b-45ca-870a-226314b393a9",
   "metadata": {
    "id": "p7kW1SpbkTQS",
    "outputId": "a8a0b351-996c-48d1-935a-fbf73481b626",
    "tags": []
   },
   "outputs": [
    {
     "data": {
      "text/plain": [
       "Id                 int64\n",
       "MSSubClass         int64\n",
       "MSZoning          object\n",
       "LotFrontage      float64\n",
       "LotArea            int64\n",
       "                  ...   \n",
       "MoSold             int64\n",
       "YrSold             int64\n",
       "SaleType          object\n",
       "SaleCondition     object\n",
       "SalePrice          int64\n",
       "Length: 81, dtype: object"
      ]
     },
     "execution_count": 5,
     "metadata": {},
     "output_type": "execute_result"
    }
   ],
   "source": [
    "# Displaying the data types of each column in the dataframe\n",
    "df.dtypes"
   ]
  },
  {
   "cell_type": "code",
   "execution_count": 6,
   "id": "fe55471c",
   "metadata": {},
   "outputs": [
    {
     "name": "stdout",
     "output_type": "stream",
     "text": [
      "<class 'pandas.core.frame.DataFrame'>\n",
      "RangeIndex: 1460 entries, 0 to 1459\n",
      "Data columns (total 81 columns):\n",
      " #   Column         Non-Null Count  Dtype  \n",
      "---  ------         --------------  -----  \n",
      " 0   Id             1460 non-null   int64  \n",
      " 1   MSSubClass     1460 non-null   int64  \n",
      " 2   MSZoning       1460 non-null   object \n",
      " 3   LotFrontage    1201 non-null   float64\n",
      " 4   LotArea        1460 non-null   int64  \n",
      " 5   Street         1460 non-null   object \n",
      " 6   Alley          91 non-null     object \n",
      " 7   LotShape       1460 non-null   object \n",
      " 8   LandContour    1460 non-null   object \n",
      " 9   Utilities      1460 non-null   object \n",
      " 10  LotConfig      1460 non-null   object \n",
      " 11  LandSlope      1460 non-null   object \n",
      " 12  Neighborhood   1460 non-null   object \n",
      " 13  Condition1     1460 non-null   object \n",
      " 14  Condition2     1460 non-null   object \n",
      " 15  BldgType       1460 non-null   object \n",
      " 16  HouseStyle     1460 non-null   object \n",
      " 17  OverallQual    1460 non-null   int64  \n",
      " 18  OverallCond    1460 non-null   int64  \n",
      " 19  YearBuilt      1460 non-null   int64  \n",
      " 20  YearRemodAdd   1460 non-null   int64  \n",
      " 21  RoofStyle      1460 non-null   object \n",
      " 22  RoofMatl       1460 non-null   object \n",
      " 23  Exterior1st    1460 non-null   object \n",
      " 24  Exterior2nd    1460 non-null   object \n",
      " 25  MasVnrType     588 non-null    object \n",
      " 26  MasVnrArea     1452 non-null   float64\n",
      " 27  ExterQual      1460 non-null   object \n",
      " 28  ExterCond      1460 non-null   object \n",
      " 29  Foundation     1460 non-null   object \n",
      " 30  BsmtQual       1423 non-null   object \n",
      " 31  BsmtCond       1423 non-null   object \n",
      " 32  BsmtExposure   1422 non-null   object \n",
      " 33  BsmtFinType1   1423 non-null   object \n",
      " 34  BsmtFinSF1     1460 non-null   int64  \n",
      " 35  BsmtFinType2   1422 non-null   object \n",
      " 36  BsmtFinSF2     1460 non-null   int64  \n",
      " 37  BsmtUnfSF      1460 non-null   int64  \n",
      " 38  TotalBsmtSF    1460 non-null   int64  \n",
      " 39  Heating        1460 non-null   object \n",
      " 40  HeatingQC      1460 non-null   object \n",
      " 41  CentralAir     1460 non-null   object \n",
      " 42  Electrical     1459 non-null   object \n",
      " 43  1stFlrSF       1460 non-null   int64  \n",
      " 44  2ndFlrSF       1460 non-null   int64  \n",
      " 45  LowQualFinSF   1460 non-null   int64  \n",
      " 46  GrLivArea      1460 non-null   int64  \n",
      " 47  BsmtFullBath   1460 non-null   int64  \n",
      " 48  BsmtHalfBath   1460 non-null   int64  \n",
      " 49  FullBath       1460 non-null   int64  \n",
      " 50  HalfBath       1460 non-null   int64  \n",
      " 51  BedroomAbvGr   1460 non-null   int64  \n",
      " 52  KitchenAbvGr   1460 non-null   int64  \n",
      " 53  KitchenQual    1460 non-null   object \n",
      " 54  TotRmsAbvGrd   1460 non-null   int64  \n",
      " 55  Functional     1460 non-null   object \n",
      " 56  Fireplaces     1460 non-null   int64  \n",
      " 57  FireplaceQu    770 non-null    object \n",
      " 58  GarageType     1379 non-null   object \n",
      " 59  GarageYrBlt    1379 non-null   float64\n",
      " 60  GarageFinish   1379 non-null   object \n",
      " 61  GarageCars     1460 non-null   int64  \n",
      " 62  GarageArea     1460 non-null   int64  \n",
      " 63  GarageQual     1379 non-null   object \n",
      " 64  GarageCond     1379 non-null   object \n",
      " 65  PavedDrive     1460 non-null   object \n",
      " 66  WoodDeckSF     1460 non-null   int64  \n",
      " 67  OpenPorchSF    1460 non-null   int64  \n",
      " 68  EnclosedPorch  1460 non-null   int64  \n",
      " 69  3SsnPorch      1460 non-null   int64  \n",
      " 70  ScreenPorch    1460 non-null   int64  \n",
      " 71  PoolArea       1460 non-null   int64  \n",
      " 72  PoolQC         7 non-null      object \n",
      " 73  Fence          281 non-null    object \n",
      " 74  MiscFeature    54 non-null     object \n",
      " 75  MiscVal        1460 non-null   int64  \n",
      " 76  MoSold         1460 non-null   int64  \n",
      " 77  YrSold         1460 non-null   int64  \n",
      " 78  SaleType       1460 non-null   object \n",
      " 79  SaleCondition  1460 non-null   object \n",
      " 80  SalePrice      1460 non-null   int64  \n",
      "dtypes: float64(3), int64(35), object(43)\n",
      "memory usage: 924.0+ KB\n"
     ]
    }
   ],
   "source": [
    "# Displaying dtypes and null values\n",
    "df.info()"
   ]
  },
  {
   "cell_type": "markdown",
   "id": "7c013ad8-b766-425c-99c1-e862955b22f1",
   "metadata": {
    "id": "7-elp1qykTQS"
   },
   "source": [
    "### Exploring numerical and categorical variables"
   ]
  },
  {
   "cell_type": "markdown",
   "id": "1e855ee3-153c-49f6-9fc2-5ab6f7105a7e",
   "metadata": {},
   "source": [
    "We'll explore numerical and categorical variables, and create two dataframes, one for each type of variable."
   ]
  },
  {
   "cell_type": "markdown",
   "id": "a62f86af-3b6b-4b05-983e-cf089d73c4ba",
   "metadata": {},
   "source": [
    "**Note**: \n",
    "- **Numerical variables**: These can encompass both quantitative and qualitative information. Often, discrete numerical variables with limited distinct values hint at qualitative (categorical) variable encoded as numbers.\n",
    "\n",
    "- **Object variables**: Typically, these consist of qualitative data, numeric data in a string format, or data that might not be directly relevant to the analysis. Examples include identifiers like 'ID' numbers or 'Names'. Variables with a broad range of unique values, especially in string format, often fall into this category. \n"
   ]
  },
  {
   "cell_type": "code",
   "execution_count": 7,
   "id": "d4f8c395-f7b8-48c5-8b7c-1069904e1f1b",
   "metadata": {
    "id": "wlZ_7m1SkTQS",
    "outputId": "14ec1484-e49d-4e7f-c571-83aadf41192d"
   },
   "outputs": [
    {
     "data": {
      "text/plain": [
       "[dtype('float64'), dtype('O'), dtype('int64')]"
      ]
     },
     "execution_count": 7,
     "metadata": {},
     "output_type": "execute_result"
    }
   ],
   "source": [
    "# Retrieving the unique data types present in the dataframe columns\n",
    "list(set(df.dtypes.tolist()))"
   ]
  },
  {
   "cell_type": "code",
   "execution_count": 8,
   "id": "e5e5d294-fbc1-4e94-82b1-3dfcdfb7e2b8",
   "metadata": {
    "id": "IUn7DvASkTQS",
    "outputId": "deccb1b4-d405-477e-ce49-b0022b8ebbe7"
   },
   "outputs": [
    {
     "data": {
      "text/plain": [
       "Index(['Id', 'MSSubClass', 'LotFrontage', 'LotArea', 'OverallQual',\n",
       "       'OverallCond', 'YearBuilt', 'YearRemodAdd', 'MasVnrArea', 'BsmtFinSF1',\n",
       "       'BsmtFinSF2', 'BsmtUnfSF', 'TotalBsmtSF', '1stFlrSF', '2ndFlrSF',\n",
       "       'LowQualFinSF', 'GrLivArea', 'BsmtFullBath', 'BsmtHalfBath', 'FullBath',\n",
       "       'HalfBath', 'BedroomAbvGr', 'KitchenAbvGr', 'TotRmsAbvGrd',\n",
       "       'Fireplaces', 'GarageYrBlt', 'GarageCars', 'GarageArea', 'WoodDeckSF',\n",
       "       'OpenPorchSF', 'EnclosedPorch', '3SsnPorch', 'ScreenPorch', 'PoolArea',\n",
       "       'MiscVal', 'MoSold', 'YrSold', 'SalePrice'],\n",
       "      dtype='object')"
      ]
     },
     "execution_count": 8,
     "metadata": {},
     "output_type": "execute_result"
    }
   ],
   "source": [
    "# Extracting column names with numerical data types from the dataframe\n",
    "df.select_dtypes(\"number\").columns"
   ]
  },
  {
   "cell_type": "code",
   "execution_count": 9,
   "id": "4d2477f6-91a8-4329-b824-4ee4a15333d8",
   "metadata": {
    "id": "CiFIrdRFkTQS",
    "outputId": "44447e1d-08df-4268-afbe-2c9196a345ce"
   },
   "outputs": [
    {
     "data": {
      "text/plain": [
       "Id               1460\n",
       "LotArea          1073\n",
       "GrLivArea         861\n",
       "BsmtUnfSF         780\n",
       "1stFlrSF          753\n",
       "TotalBsmtSF       721\n",
       "SalePrice         663\n",
       "BsmtFinSF1        637\n",
       "GarageArea        441\n",
       "2ndFlrSF          417\n",
       "MasVnrArea        327\n",
       "WoodDeckSF        274\n",
       "OpenPorchSF       202\n",
       "BsmtFinSF2        144\n",
       "EnclosedPorch     120\n",
       "YearBuilt         112\n",
       "LotFrontage       110\n",
       "GarageYrBlt        97\n",
       "ScreenPorch        76\n",
       "YearRemodAdd       61\n",
       "LowQualFinSF       24\n",
       "MiscVal            21\n",
       "3SsnPorch          20\n",
       "MSSubClass         15\n",
       "TotRmsAbvGrd       12\n",
       "MoSold             12\n",
       "OverallQual        10\n",
       "OverallCond         9\n",
       "BedroomAbvGr        8\n",
       "PoolArea            8\n",
       "GarageCars          5\n",
       "YrSold              5\n",
       "FullBath            4\n",
       "BsmtFullBath        4\n",
       "KitchenAbvGr        4\n",
       "Fireplaces          4\n",
       "HalfBath            3\n",
       "BsmtHalfBath        3\n",
       "dtype: int64"
      ]
     },
     "execution_count": 9,
     "metadata": {},
     "output_type": "execute_result"
    }
   ],
   "source": [
    "# Counting and sorting the unique values for each numerical column in descending order\n",
    "df.select_dtypes(\"number\").nunique().sort_values(ascending=False)"
   ]
  },
  {
   "cell_type": "code",
   "execution_count": 10,
   "id": "df86487e-9d72-41d1-b936-d0a8f031d35f",
   "metadata": {
    "id": "Vm_XfWxwkTQS",
    "outputId": "2fcdc8be-5a27-4b16-bf9d-054569e4455a"
   },
   "outputs": [
    {
     "data": {
      "text/html": [
       "<div>\n",
       "<style scoped>\n",
       "    .dataframe tbody tr th:only-of-type {\n",
       "        vertical-align: middle;\n",
       "    }\n",
       "\n",
       "    .dataframe tbody tr th {\n",
       "        vertical-align: top;\n",
       "    }\n",
       "\n",
       "    .dataframe thead th {\n",
       "        text-align: right;\n",
       "    }\n",
       "</style>\n",
       "<table border=\"1\" class=\"dataframe\">\n",
       "  <thead>\n",
       "    <tr style=\"text-align: right;\">\n",
       "      <th></th>\n",
       "      <th>MSSubClass</th>\n",
       "      <th>OverallQual</th>\n",
       "      <th>OverallCond</th>\n",
       "      <th>BsmtFullBath</th>\n",
       "      <th>BsmtHalfBath</th>\n",
       "      <th>FullBath</th>\n",
       "      <th>HalfBath</th>\n",
       "      <th>BedroomAbvGr</th>\n",
       "      <th>KitchenAbvGr</th>\n",
       "      <th>TotRmsAbvGrd</th>\n",
       "      <th>Fireplaces</th>\n",
       "      <th>GarageCars</th>\n",
       "      <th>PoolArea</th>\n",
       "      <th>MoSold</th>\n",
       "      <th>YrSold</th>\n",
       "    </tr>\n",
       "  </thead>\n",
       "  <tbody>\n",
       "    <tr>\n",
       "      <th>0</th>\n",
       "      <td>60</td>\n",
       "      <td>7</td>\n",
       "      <td>5</td>\n",
       "      <td>1</td>\n",
       "      <td>0</td>\n",
       "      <td>2</td>\n",
       "      <td>1</td>\n",
       "      <td>3</td>\n",
       "      <td>1</td>\n",
       "      <td>8</td>\n",
       "      <td>0</td>\n",
       "      <td>2</td>\n",
       "      <td>0</td>\n",
       "      <td>2</td>\n",
       "      <td>2008</td>\n",
       "    </tr>\n",
       "    <tr>\n",
       "      <th>1</th>\n",
       "      <td>20</td>\n",
       "      <td>6</td>\n",
       "      <td>8</td>\n",
       "      <td>0</td>\n",
       "      <td>1</td>\n",
       "      <td>2</td>\n",
       "      <td>0</td>\n",
       "      <td>3</td>\n",
       "      <td>1</td>\n",
       "      <td>6</td>\n",
       "      <td>1</td>\n",
       "      <td>2</td>\n",
       "      <td>0</td>\n",
       "      <td>5</td>\n",
       "      <td>2007</td>\n",
       "    </tr>\n",
       "    <tr>\n",
       "      <th>2</th>\n",
       "      <td>60</td>\n",
       "      <td>7</td>\n",
       "      <td>5</td>\n",
       "      <td>1</td>\n",
       "      <td>0</td>\n",
       "      <td>2</td>\n",
       "      <td>1</td>\n",
       "      <td>3</td>\n",
       "      <td>1</td>\n",
       "      <td>6</td>\n",
       "      <td>1</td>\n",
       "      <td>2</td>\n",
       "      <td>0</td>\n",
       "      <td>9</td>\n",
       "      <td>2008</td>\n",
       "    </tr>\n",
       "    <tr>\n",
       "      <th>3</th>\n",
       "      <td>70</td>\n",
       "      <td>7</td>\n",
       "      <td>5</td>\n",
       "      <td>1</td>\n",
       "      <td>0</td>\n",
       "      <td>1</td>\n",
       "      <td>0</td>\n",
       "      <td>3</td>\n",
       "      <td>1</td>\n",
       "      <td>7</td>\n",
       "      <td>1</td>\n",
       "      <td>3</td>\n",
       "      <td>0</td>\n",
       "      <td>2</td>\n",
       "      <td>2006</td>\n",
       "    </tr>\n",
       "    <tr>\n",
       "      <th>4</th>\n",
       "      <td>60</td>\n",
       "      <td>8</td>\n",
       "      <td>5</td>\n",
       "      <td>1</td>\n",
       "      <td>0</td>\n",
       "      <td>2</td>\n",
       "      <td>1</td>\n",
       "      <td>4</td>\n",
       "      <td>1</td>\n",
       "      <td>9</td>\n",
       "      <td>1</td>\n",
       "      <td>3</td>\n",
       "      <td>0</td>\n",
       "      <td>12</td>\n",
       "      <td>2008</td>\n",
       "    </tr>\n",
       "    <tr>\n",
       "      <th>...</th>\n",
       "      <td>...</td>\n",
       "      <td>...</td>\n",
       "      <td>...</td>\n",
       "      <td>...</td>\n",
       "      <td>...</td>\n",
       "      <td>...</td>\n",
       "      <td>...</td>\n",
       "      <td>...</td>\n",
       "      <td>...</td>\n",
       "      <td>...</td>\n",
       "      <td>...</td>\n",
       "      <td>...</td>\n",
       "      <td>...</td>\n",
       "      <td>...</td>\n",
       "      <td>...</td>\n",
       "    </tr>\n",
       "    <tr>\n",
       "      <th>1455</th>\n",
       "      <td>60</td>\n",
       "      <td>6</td>\n",
       "      <td>5</td>\n",
       "      <td>0</td>\n",
       "      <td>0</td>\n",
       "      <td>2</td>\n",
       "      <td>1</td>\n",
       "      <td>3</td>\n",
       "      <td>1</td>\n",
       "      <td>7</td>\n",
       "      <td>1</td>\n",
       "      <td>2</td>\n",
       "      <td>0</td>\n",
       "      <td>8</td>\n",
       "      <td>2007</td>\n",
       "    </tr>\n",
       "    <tr>\n",
       "      <th>1456</th>\n",
       "      <td>20</td>\n",
       "      <td>6</td>\n",
       "      <td>6</td>\n",
       "      <td>1</td>\n",
       "      <td>0</td>\n",
       "      <td>2</td>\n",
       "      <td>0</td>\n",
       "      <td>3</td>\n",
       "      <td>1</td>\n",
       "      <td>7</td>\n",
       "      <td>2</td>\n",
       "      <td>2</td>\n",
       "      <td>0</td>\n",
       "      <td>2</td>\n",
       "      <td>2010</td>\n",
       "    </tr>\n",
       "    <tr>\n",
       "      <th>1457</th>\n",
       "      <td>70</td>\n",
       "      <td>7</td>\n",
       "      <td>9</td>\n",
       "      <td>0</td>\n",
       "      <td>0</td>\n",
       "      <td>2</td>\n",
       "      <td>0</td>\n",
       "      <td>4</td>\n",
       "      <td>1</td>\n",
       "      <td>9</td>\n",
       "      <td>2</td>\n",
       "      <td>1</td>\n",
       "      <td>0</td>\n",
       "      <td>5</td>\n",
       "      <td>2010</td>\n",
       "    </tr>\n",
       "    <tr>\n",
       "      <th>1458</th>\n",
       "      <td>20</td>\n",
       "      <td>5</td>\n",
       "      <td>6</td>\n",
       "      <td>1</td>\n",
       "      <td>0</td>\n",
       "      <td>1</td>\n",
       "      <td>0</td>\n",
       "      <td>2</td>\n",
       "      <td>1</td>\n",
       "      <td>5</td>\n",
       "      <td>0</td>\n",
       "      <td>1</td>\n",
       "      <td>0</td>\n",
       "      <td>4</td>\n",
       "      <td>2010</td>\n",
       "    </tr>\n",
       "    <tr>\n",
       "      <th>1459</th>\n",
       "      <td>20</td>\n",
       "      <td>5</td>\n",
       "      <td>6</td>\n",
       "      <td>1</td>\n",
       "      <td>0</td>\n",
       "      <td>1</td>\n",
       "      <td>1</td>\n",
       "      <td>3</td>\n",
       "      <td>1</td>\n",
       "      <td>6</td>\n",
       "      <td>0</td>\n",
       "      <td>1</td>\n",
       "      <td>0</td>\n",
       "      <td>6</td>\n",
       "      <td>2008</td>\n",
       "    </tr>\n",
       "  </tbody>\n",
       "</table>\n",
       "<p>1460 rows × 15 columns</p>\n",
       "</div>"
      ],
      "text/plain": [
       "      MSSubClass  OverallQual  OverallCond  BsmtFullBath  BsmtHalfBath  \\\n",
       "0             60            7            5             1             0   \n",
       "1             20            6            8             0             1   \n",
       "2             60            7            5             1             0   \n",
       "3             70            7            5             1             0   \n",
       "4             60            8            5             1             0   \n",
       "...          ...          ...          ...           ...           ...   \n",
       "1455          60            6            5             0             0   \n",
       "1456          20            6            6             1             0   \n",
       "1457          70            7            9             0             0   \n",
       "1458          20            5            6             1             0   \n",
       "1459          20            5            6             1             0   \n",
       "\n",
       "      FullBath  HalfBath  BedroomAbvGr  KitchenAbvGr  TotRmsAbvGrd  \\\n",
       "0            2         1             3             1             8   \n",
       "1            2         0             3             1             6   \n",
       "2            2         1             3             1             6   \n",
       "3            1         0             3             1             7   \n",
       "4            2         1             4             1             9   \n",
       "...        ...       ...           ...           ...           ...   \n",
       "1455         2         1             3             1             7   \n",
       "1456         2         0             3             1             7   \n",
       "1457         2         0             4             1             9   \n",
       "1458         1         0             2             1             5   \n",
       "1459         1         1             3             1             6   \n",
       "\n",
       "      Fireplaces  GarageCars  PoolArea  MoSold  YrSold  \n",
       "0              0           2         0       2    2008  \n",
       "1              1           2         0       5    2007  \n",
       "2              1           2         0       9    2008  \n",
       "3              1           3         0       2    2006  \n",
       "4              1           3         0      12    2008  \n",
       "...          ...         ...       ...     ...     ...  \n",
       "1455           1           2         0       8    2007  \n",
       "1456           2           2         0       2    2010  \n",
       "1457           2           1         0       5    2010  \n",
       "1458           0           1         0       4    2010  \n",
       "1459           0           1         0       6    2008  \n",
       "\n",
       "[1460 rows x 15 columns]"
      ]
     },
     "execution_count": 10,
     "metadata": {},
     "output_type": "execute_result"
    }
   ],
   "source": [
    "# Separating between discrete and continuous variables, as discrete ones could potentially be treated as categorical.\n",
    "# Remember to adjust the threshold (in this case, < 20) based on your dataset's specific characteristics and domain knowledge.\n",
    "potential_categorical_from_numerical = df.select_dtypes(\"number\").loc[:, df.select_dtypes(\"number\").nunique() < 20]\n",
    "potential_categorical_from_numerical"
   ]
  },
  {
   "cell_type": "code",
   "execution_count": 11,
   "id": "6553ed31-e142-4444-8369-f1c995c8d18e",
   "metadata": {
    "id": "XH8W-ilykTQS",
    "outputId": "a54a9d25-67f1-4a95-be0b-e26123193ea0"
   },
   "outputs": [
    {
     "data": {
      "text/plain": [
       "Index(['MSZoning', 'Street', 'Alley', 'LotShape', 'LandContour', 'Utilities',\n",
       "       'LotConfig', 'LandSlope', 'Neighborhood', 'Condition1', 'Condition2',\n",
       "       'BldgType', 'HouseStyle', 'RoofStyle', 'RoofMatl', 'Exterior1st',\n",
       "       'Exterior2nd', 'MasVnrType', 'ExterQual', 'ExterCond', 'Foundation',\n",
       "       'BsmtQual', 'BsmtCond', 'BsmtExposure', 'BsmtFinType1', 'BsmtFinType2',\n",
       "       'Heating', 'HeatingQC', 'CentralAir', 'Electrical', 'KitchenQual',\n",
       "       'Functional', 'FireplaceQu', 'GarageType', 'GarageFinish', 'GarageQual',\n",
       "       'GarageCond', 'PavedDrive', 'PoolQC', 'Fence', 'MiscFeature',\n",
       "       'SaleType', 'SaleCondition'],\n",
       "      dtype='object')"
      ]
     },
     "execution_count": 11,
     "metadata": {},
     "output_type": "execute_result"
    }
   ],
   "source": [
    "# Retrieving column names with object (typically string) data types from the dataframe\n",
    "df.select_dtypes(\"object\").columns"
   ]
  },
  {
   "cell_type": "code",
   "execution_count": 12,
   "id": "02e0803f-41fa-4127-96cf-32562988a018",
   "metadata": {
    "id": "dzjEgM5wkTQT"
   },
   "outputs": [
    {
     "data": {
      "text/plain": [
       "Neighborhood     25\n",
       "Exterior2nd      16\n",
       "Exterior1st      15\n",
       "Condition1        9\n",
       "SaleType          9\n",
       "HouseStyle        8\n",
       "RoofMatl          8\n",
       "Condition2        8\n",
       "Functional        7\n",
       "BsmtFinType2      6\n",
       "RoofStyle         6\n",
       "BsmtFinType1      6\n",
       "SaleCondition     6\n",
       "Heating           6\n",
       "Foundation        6\n",
       "GarageType        6\n",
       "ExterCond         5\n",
       "LotConfig         5\n",
       "MSZoning          5\n",
       "GarageCond        5\n",
       "GarageQual        5\n",
       "HeatingQC         5\n",
       "Electrical        5\n",
       "BldgType          5\n",
       "FireplaceQu       5\n",
       "LandContour       4\n",
       "LotShape          4\n",
       "KitchenQual       4\n",
       "MiscFeature       4\n",
       "Fence             4\n",
       "BsmtCond          4\n",
       "ExterQual         4\n",
       "BsmtExposure      4\n",
       "BsmtQual          4\n",
       "LandSlope         3\n",
       "PoolQC            3\n",
       "GarageFinish      3\n",
       "PavedDrive        3\n",
       "MasVnrType        3\n",
       "Utilities         2\n",
       "Alley             2\n",
       "Street            2\n",
       "CentralAir        2\n",
       "dtype: int64"
      ]
     },
     "execution_count": 12,
     "metadata": {},
     "output_type": "execute_result"
    }
   ],
   "source": [
    "# Counting and sorting the unique values for each object (string) column in descending order\n",
    "df.select_dtypes(\"object\").nunique().sort_values(ascending=False)\n",
    "\n",
    "# All columns seem categorical, as there isn't a wide variability of values."
   ]
  },
  {
   "cell_type": "markdown",
   "id": "337a95b8-8ce8-4487-be38-d0c3515c981d",
   "metadata": {},
   "source": [
    "Decide based on domain knowledge and the above explorations which numerical columns are better as categorical\n",
    " and vice versa. \n",
    " \n",
    " For demonstration purposes, let's assume the *potential_categorical_from_numerical* are categorical, even though this might not be the case in a real scenario."
   ]
  },
  {
   "cell_type": "code",
   "execution_count": 13,
   "id": "107d625e-3a50-4e6e-818a-d4794ca0e05b",
   "metadata": {},
   "outputs": [],
   "source": [
    "# Extracting columns with object (typically string) data types to create a categorical dataframe\n",
    "# For demonstration purposes, let's consider the columns in potential_categorical_from_numerical as categorical variables.\n",
    "df_categorical = pd.concat([df.select_dtypes(\"object\"), potential_categorical_from_numerical], axis=1)\n",
    "\n",
    "# Adjusting the numerical dataframe by removing the moved columns\n",
    "df_numerical = df.select_dtypes(\"number\").drop(columns=potential_categorical_from_numerical.columns)"
   ]
  },
  {
   "cell_type": "code",
   "execution_count": 14,
   "id": "df40e2c7-e058-4387-9861-54230cfb3a16",
   "metadata": {
    "id": "QuDEppqXkTQT",
    "outputId": "aaceaa2f-734f-4b94-931b-c193f516780b"
   },
   "outputs": [
    {
     "data": {
      "text/plain": [
       "True"
      ]
     },
     "execution_count": 14,
     "metadata": {},
     "output_type": "execute_result"
    }
   ],
   "source": [
    "# Verifying that the total number of columns in the dataframe is the sum of object (string) and numerical columns\n",
    "len(df.columns) == len(df.select_dtypes(\"object\").columns) + len(df.select_dtypes(\"number\").columns)"
   ]
  },
  {
   "cell_type": "markdown",
   "id": "38f7e96c-c467-4757-b66e-173e4eb2484b",
   "metadata": {
    "id": "Cu1COqyKkTQS"
   },
   "source": [
    "In the data cleaning phase, it's important to focus on several essential aspects. First, verify that data is in the correct type and format (**Data Typing/Formatting**). Then, identify and address any duplicates to eliminate redundancy (**Duplicates**). Next, tackle missing values by finding and managing null or absent data (**Missing Values**). For categorical variables, like gender, review the categories (e.g., M, F, Masculine) and their distributions to determine if cleaning is needed (**Categorical Variables**). Similarly, assess numerical data for consistency. Finally, evaluate outliers to decide how to handle these extreme values (**Outliers**). Effective exploration of these areas is crucial for comprehensive data cleaning.\n",
    "\n",
    "We won't be delving into this now, as we already reviewed it in data cleaning lessons (expect for outliers, which we'll be reviewing later in this lesson). For now, we will just clean null values, so we can focus in univariate analysis."
   ]
  },
  {
   "cell_type": "markdown",
   "id": "ddc70578-64f5-468e-8896-96e4083f452f",
   "metadata": {},
   "source": [
    "## Data Cleaning"
   ]
  },
  {
   "cell_type": "markdown",
   "id": "b3af3189-a8d2-4e16-9ace-40dae6c3aa7c",
   "metadata": {},
   "source": [
    "\n",
    "### Checking for Missing Data\n",
    "\n",
    "Missing data can influence our analysis. It's essential to identify and handle them appropriately.\n"
   ]
  },
  {
   "cell_type": "code",
   "execution_count": 15,
   "id": "3e51a035-a6da-4eac-96c3-60e503c429be",
   "metadata": {
    "id": "7sVQJcKYkTQS",
    "outputId": "4cb96bcb-ee40-497e-df6c-93d10293c8a5"
   },
   "outputs": [
    {
     "data": {
      "text/plain": [
       "PoolQC           1453\n",
       "MiscFeature      1406\n",
       "Alley            1369\n",
       "Fence            1179\n",
       "MasVnrType        872\n",
       "                 ... \n",
       "MoSold              0\n",
       "YrSold              0\n",
       "SaleType            0\n",
       "SaleCondition       0\n",
       "SalePrice           0\n",
       "Length: 81, dtype: int64"
      ]
     },
     "execution_count": 15,
     "metadata": {},
     "output_type": "execute_result"
    }
   ],
   "source": [
    "# Checking for missing data\n",
    "df.isnull().sum().sort_values(ascending=False)"
   ]
  },
  {
   "cell_type": "code",
   "execution_count": 16,
   "id": "7fa30e6f-b116-40f7-8019-1ba2af5fc1cf",
   "metadata": {
    "id": "8tk5MSKzkTQS",
    "outputId": "eee1e800-fd3d-456b-a4ec-302552b54b62"
   },
   "outputs": [
    {
     "data": {
      "text/plain": [
       "Index(['Alley', 'PoolQC', 'Fence', 'MiscFeature'], dtype='object')"
      ]
     },
     "execution_count": 16,
     "metadata": {},
     "output_type": "execute_result"
    }
   ],
   "source": [
    "# Identifying columns in the dataframe where over 80% of the values are missing\n",
    "df.columns[df.isnull().mean() > 0.8]"
   ]
  },
  {
   "cell_type": "code",
   "execution_count": 17,
   "id": "b29ac673-33e7-4286-a4cb-300ba9f44ddc",
   "metadata": {
    "id": "PybQfXbPkTQS"
   },
   "outputs": [],
   "source": [
    "# Filtering out columns in the dataframe where more than 80% of the values are missing\n",
    "df = df[df.columns[df.isnull().mean() < 0.8]]"
   ]
  },
  {
   "cell_type": "code",
   "execution_count": 18,
   "id": "a9a27001-85a3-414f-8ab9-2dffc68d7232",
   "metadata": {
    "id": "jtNX_co5kTQS"
   },
   "outputs": [],
   "source": [
    "# Removing the \"Id\" column from the dataframe\n",
    "df.drop(\"Id\", inplace=True, axis=1)"
   ]
  },
  {
   "cell_type": "markdown",
   "id": "0a6b581e-8474-4253-9c22-e0335aed25d7",
   "metadata": {},
   "source": [
    "## Univariate Analysis\n",
    "\n",
    "Univariate analysis, as its name suggests, concentrates on one variable at a time, giving us a deep understanding of its characteristics. This fundamental step in Exploratory Data Analysis (EDA) lays the groundwork for subsequent analyses involving multiple variables. Let's explore various techniques for both categorical and numerical variables.\n",
    "\n",
    "**Categorical variables**:\n",
    "- Frequency tables. Counts and proportions.\n",
    "- Visualizations: Bar charts, pie charts\n",
    "\n",
    "**Numerical variables**: \n",
    "- Measures of centrality: Mean, median, mode\n",
    "- Measures of dispersion: Variance,  standard deviation, minimum, maximum, range, quantiles\n",
    "- Shape of the distribution: Symmetry and kurtosis\n",
    "- Visualizations: Histograms, box plots"
   ]
  },
  {
   "cell_type": "markdown",
   "id": "13c0d3b7-3fe9-48d8-b3e4-c2f841a47317",
   "metadata": {},
   "source": [
    "### Categorical Variables"
   ]
  },
  {
   "cell_type": "markdown",
   "id": "ecf113ec-fbb9-45e5-abe8-6c265da2497c",
   "metadata": {},
   "source": [
    "Categorical variables represent categories or labels, like types or groups. Analyzing categorical data involves understanding the frequency or proportion of each category."
   ]
  },
  {
   "cell_type": "markdown",
   "id": "ad2f37be-7b05-41b9-8377-ab218c997be4",
   "metadata": {},
   "source": [
    "#### Frequency Tables\n",
    "\n",
    "Frequency tables are tabular representations that display the number of occurrences of each category. They help in understanding the distribution of categories in a dataset."
   ]
  },
  {
   "cell_type": "markdown",
   "id": "010d09bd-c182-431c-aede-85d7ab4b128b",
   "metadata": {},
   "source": [
    "In python, we can use:\n",
    "- `value_counts()`\n",
    "- `pd.crosstab()`"
   ]
  },
  {
   "cell_type": "markdown",
   "id": "82ec4272-a4ec-41ad-a0f7-96e5596f4e7a",
   "metadata": {},
   "source": [
    "Let's consider *MSZoning* as our categorical variable of interest, which represents the general zoning classification of the sale.\n",
    "\n",
    "We'll look at `value_counts()`."
   ]
  },
  {
   "cell_type": "code",
   "execution_count": 19,
   "id": "fb2cf903-41dd-4438-ae70-a1969d8a1d9e",
   "metadata": {},
   "outputs": [
    {
     "data": {
      "text/plain": [
       "(MSZoning\n",
       " RL         1151\n",
       " RM          218\n",
       " FV           65\n",
       " RH           16\n",
       " C (all)      10\n",
       " Name: count, dtype: int64,\n",
       " MSZoning\n",
       " RL         0.788356\n",
       " RM         0.149315\n",
       " FV         0.044521\n",
       " RH         0.010959\n",
       " C (all)    0.006849\n",
       " Name: proportion, dtype: float64)"
      ]
     },
     "execution_count": 19,
     "metadata": {},
     "output_type": "execute_result"
    }
   ],
   "source": [
    "# Frequency table for 'MSZoning'\n",
    "frequency_table = df['MSZoning'].value_counts()\n",
    "\n",
    "# Calculating the proportion of each unique value in the 'MSZoning'\n",
    "proportion_table = df['MSZoning'].value_counts(normalize=True)\n",
    "\n",
    "frequency_table, proportion_table"
   ]
  },
  {
   "cell_type": "markdown",
   "id": "8e961c0c-db36-446d-8650-b311ce9304ad",
   "metadata": {},
   "source": [
    "The frequency table gives the count of each zoning type, while the proportion table provides the percentage representation of each category in the dataset. This helps to quickly identify dominant and minority categories."
   ]
  },
  {
   "cell_type": "markdown",
   "id": "c6b83e68-77ac-4bc2-9223-58e7c7a1c4ea",
   "metadata": {},
   "source": [
    "Let's look at `pd.crosstab()`. The crosstab function can be useful to compute a cross-tabulation of two (or more) factors. Here, it's used to count the occurrences of each 'MSZoning' type."
   ]
  },
  {
   "cell_type": "code",
   "execution_count": 20,
   "id": "9dc18040-faba-456a-af59-ce4056895c44",
   "metadata": {
    "id": "Llf1vw9OkTQc"
   },
   "outputs": [
    {
     "data": {
      "text/html": [
       "<div>\n",
       "<style scoped>\n",
       "    .dataframe tbody tr th:only-of-type {\n",
       "        vertical-align: middle;\n",
       "    }\n",
       "\n",
       "    .dataframe tbody tr th {\n",
       "        vertical-align: top;\n",
       "    }\n",
       "\n",
       "    .dataframe thead th {\n",
       "        text-align: right;\n",
       "    }\n",
       "</style>\n",
       "<table border=\"1\" class=\"dataframe\">\n",
       "  <thead>\n",
       "    <tr style=\"text-align: right;\">\n",
       "      <th>col_0</th>\n",
       "      <th>count</th>\n",
       "    </tr>\n",
       "    <tr>\n",
       "      <th>MSZoning</th>\n",
       "      <th></th>\n",
       "    </tr>\n",
       "  </thead>\n",
       "  <tbody>\n",
       "    <tr>\n",
       "      <th>C (all)</th>\n",
       "      <td>10</td>\n",
       "    </tr>\n",
       "    <tr>\n",
       "      <th>FV</th>\n",
       "      <td>65</td>\n",
       "    </tr>\n",
       "    <tr>\n",
       "      <th>RH</th>\n",
       "      <td>16</td>\n",
       "    </tr>\n",
       "    <tr>\n",
       "      <th>RL</th>\n",
       "      <td>1151</td>\n",
       "    </tr>\n",
       "    <tr>\n",
       "      <th>RM</th>\n",
       "      <td>218</td>\n",
       "    </tr>\n",
       "  </tbody>\n",
       "</table>\n",
       "</div>"
      ],
      "text/plain": [
       "col_0     count\n",
       "MSZoning       \n",
       "C (all)      10\n",
       "FV           65\n",
       "RH           16\n",
       "RL         1151\n",
       "RM          218"
      ]
     },
     "execution_count": 20,
     "metadata": {},
     "output_type": "execute_result"
    }
   ],
   "source": [
    "# Creating a crosstab table for the 'MSZoning' column, counting occurrences for each unique value\n",
    "my_table = pd.crosstab(index = df_categorical[\"MSZoning\"],  # Make a crosstab\n",
    "                              columns=\"count\")      # Name the count column\n",
    "my_table"
   ]
  },
  {
   "cell_type": "markdown",
   "id": "b2f637b9-f9c1-40ad-8c5d-ede629375fc9",
   "metadata": {
    "id": "J6b9pYKikTQc"
   },
   "source": [
    "We can also get the proportion_table the following way:"
   ]
  },
  {
   "cell_type": "code",
   "execution_count": 21,
   "id": "7b247f81-b55a-41dd-babb-77deb09f6cc6",
   "metadata": {
    "id": "H17YQDnekTQc",
    "outputId": "3d9b6cbf-c474-4160-ab02-26f1aa1680ae"
   },
   "outputs": [
    {
     "data": {
      "text/html": [
       "<div>\n",
       "<style scoped>\n",
       "    .dataframe tbody tr th:only-of-type {\n",
       "        vertical-align: middle;\n",
       "    }\n",
       "\n",
       "    .dataframe tbody tr th {\n",
       "        vertical-align: top;\n",
       "    }\n",
       "\n",
       "    .dataframe thead th {\n",
       "        text-align: right;\n",
       "    }\n",
       "</style>\n",
       "<table border=\"1\" class=\"dataframe\">\n",
       "  <thead>\n",
       "    <tr style=\"text-align: right;\">\n",
       "      <th>col_0</th>\n",
       "      <th>count</th>\n",
       "    </tr>\n",
       "    <tr>\n",
       "      <th>MSZoning</th>\n",
       "      <th></th>\n",
       "    </tr>\n",
       "  </thead>\n",
       "  <tbody>\n",
       "    <tr>\n",
       "      <th>C (all)</th>\n",
       "      <td>0.01</td>\n",
       "    </tr>\n",
       "    <tr>\n",
       "      <th>FV</th>\n",
       "      <td>0.04</td>\n",
       "    </tr>\n",
       "    <tr>\n",
       "      <th>RH</th>\n",
       "      <td>0.01</td>\n",
       "    </tr>\n",
       "    <tr>\n",
       "      <th>RL</th>\n",
       "      <td>0.79</td>\n",
       "    </tr>\n",
       "    <tr>\n",
       "      <th>RM</th>\n",
       "      <td>0.15</td>\n",
       "    </tr>\n",
       "  </tbody>\n",
       "</table>\n",
       "</div>"
      ],
      "text/plain": [
       "col_0     count\n",
       "MSZoning       \n",
       "C (all)    0.01\n",
       "FV         0.04\n",
       "RH         0.01\n",
       "RL         0.79\n",
       "RM         0.15"
      ]
     },
     "execution_count": 21,
     "metadata": {},
     "output_type": "execute_result"
    }
   ],
   "source": [
    "# Calculating the proportions for each value in 'my_table' and rounding the results to two decimal places\n",
    "(my_table/my_table.sum()).round(2)"
   ]
  },
  {
   "cell_type": "markdown",
   "id": "221f4e3d-f13e-4f0f-8cb9-aa6ddea5766a",
   "metadata": {},
   "source": [
    "The crosstab table displays the number of occurrences of each 'MSZoning' type, just like the frequency table. Computing the proportion table showcases the relative percentage of each category."
   ]
  },
  {
   "cell_type": "markdown",
   "id": "6f7927f4-b8d5-4cb1-84e8-d94e2c31e731",
   "metadata": {},
   "source": [
    "**Insights** for 'MSZoning':\n",
    "\n",
    "- The most common zoning classification is 'RL', which stands for Residential Low Density, comprising approximately 78.8% of the properties in the dataset.\n",
    "- The second most frequent zoning classification is 'RM' (Residential Medium Density), making up roughly 14.9%."
   ]
  },
  {
   "cell_type": "markdown",
   "id": "0290af1f-d89b-4101-88b9-9d2b1167225a",
   "metadata": {},
   "source": [
    "#### Visualizations\n",
    "\n",
    "Visualizations offer a more intuitive understanding of categorical data distribution. Bar charts and pie charts are common methods to visually represent categorical data."
   ]
  },
  {
   "cell_type": "markdown",
   "id": "c6c4d984-11c1-4efb-b506-ad89e4b7ef99",
   "metadata": {},
   "source": [
    "##### Bar charts"
   ]
  },
  {
   "cell_type": "markdown",
   "id": "77b92e9e-7767-49bf-8ead-2c678420dc7b",
   "metadata": {},
   "source": [
    "Bar charts can display the frequency or proportion of each category using bars of varying lengths. Here, the same data is visualized using three different methods: `sns.barplot()` and `sns.countplot()`."
   ]
  },
  {
   "cell_type": "markdown",
   "id": "e40f96a6-9b0a-4a5a-baec-079d7596cffa",
   "metadata": {},
   "source": [
    "Let's see how to use the `sns.barplot()` function with the result from `value_counts()` and `pd.crosstab()`. We should expect the same plot for both following lines of code."
   ]
  },
  {
   "cell_type": "code",
   "execution_count": 22,
   "id": "2c6cdd7c-66f2-477f-a1b4-3d6f1eefbacb",
   "metadata": {},
   "outputs": [
    {
     "data": {
      "image/png": "[encoded data removed]",
      "text/plain": [
       "<Figure size 640x480 with 1 Axes>"
      ]
     },
     "metadata": {},
     "output_type": "display_data"
    }
   ],
   "source": [
    "# Plotting a bar chart using the values from the frequency table, with colors sourced from the \"Set3\" palette\n",
    "sns.barplot(x=frequency_table.index, y=frequency_table.values);"
   ]
  },
  {
   "cell_type": "code",
   "execution_count": 23,
   "id": "858dd755-625f-446c-9969-0ddcbf124d33",
   "metadata": {},
   "outputs": [
    {
     "data": {
      "image/png": "[encoded data removed]",
      "text/plain": [
       "<Figure size 640x480 with 1 Axes>"
      ]
     },
     "metadata": {},
     "output_type": "display_data"
    }
   ],
   "source": [
    "# Plotting a bar chart using the 'count' values from 'my_table', with colors sourced from the \"Set3\" palette\n",
    "sns.barplot(x=my_table.index, y=my_table[\"count\"]);"
   ]
  },
  {
   "cell_type": "markdown",
   "id": "3eceded8-ecaf-49cd-a346-12aca1c18e03",
   "metadata": {},
   "source": [
    "Using matplotlib, would just be:\n",
    "\n",
    "```python\n",
    "my_table.plot.bar()\n",
    "```"
   ]
  },
  {
   "cell_type": "markdown",
   "id": "fc2b25f0-d851-4a81-ab82-7ca6394d111a",
   "metadata": {},
   "source": [
    "**Insights** from the Bar Charts:\n",
    "\n",
    "1. Both bar charts confirm the dominance of the `RL` zoning classification within the dataset. \n",
    "2. The bar representing `RL` is significantly taller than the others, emphasizing its higher frequency.\n",
    "3. The two charts are identical, showcasing that both `value_counts()` and `pd.crosstab()` provide similar counts for the categories."
   ]
  },
  {
   "cell_type": "markdown",
   "id": "1ba251e5-b2b8-4156-820d-9667dcaa5c3b",
   "metadata": {},
   "source": [
    "##### Countplots"
   ]
  },
  {
   "cell_type": "markdown",
   "id": "551b3a6b-42de-45e4-b4f2-aa617c5fc117",
   "metadata": {},
   "source": [
    "A countplot is a type of bar plot in Seaborn that displays the count of occurrences of unique values in a categorical column."
   ]
  },
  {
   "cell_type": "markdown",
   "id": "df4e30ca-29e8-4cbc-89e2-046181926da7",
   "metadata": {
    "id": "uFGdT_xekTQd"
   },
   "source": [
    "Same result now as the *bar plot* since it just assumes Y axis is the count of frequencies. "
   ]
  },
  {
   "cell_type": "code",
   "execution_count": 24,
   "id": "d784cb76-f0e0-47b4-a86c-ad2cd41bf45e",
   "metadata": {},
   "outputs": [
    {
     "data": {
      "image/png": "[encoded data removed]",
      "text/plain": [
       "<Figure size 640x480 with 1 Axes>"
      ]
     },
     "metadata": {},
     "output_type": "display_data"
    }
   ],
   "source": [
    "# Plotting a count plot for the 'MSZoning' column from the dataframe 'df', using the \"Set3\" palette for coloring\n",
    "sns.countplot(data=df, x='MSZoning');"
   ]
  },
  {
   "cell_type": "markdown",
   "id": "56e6876a-720c-4eb6-9af1-ac5e7243f7e1",
   "metadata": {},
   "source": [
    "##### Pie charts"
   ]
  },
  {
   "cell_type": "markdown",
   "id": "1106aa57-3fb5-42d9-81d1-360b1c97f73c",
   "metadata": {},
   "source": [
    "\n",
    "\n",
    "Pie charts provide a circular representation of the data, showing the proportion of each category as slices of a pie. However, they can be challenging to interpret when there are many categories or when categories have similar proportions.\n",
    "\n",
    "Seaborn, as of 2023, does not have a dedicated function for pie charts. Pie charts are more commonly created using `matplotlib`, which Seaborn is built upon."
   ]
  },
  {
   "cell_type": "code",
   "execution_count": 25,
   "id": "d13bcdd8-605d-41ec-b145-ab258eea5de0",
   "metadata": {},
   "outputs": [
    {
     "data": {
      "text/plain": [
       "<Axes: ylabel='count'>"
      ]
     },
     "execution_count": 25,
     "metadata": {},
     "output_type": "execute_result"
    },
    {
     "data": {
      "image/png": "[encoded data removed]",
      "text/plain": [
       "<Figure size 640x480 with 1 Axes>"
      ]
     },
     "metadata": {},
     "output_type": "display_data"
    }
   ],
   "source": [
    "# Plotting a pie chart of the 'MSZoning' column value counts, with percentage labels, \n",
    "# starting at angle 90, and using colors from the \"Set3\" Seaborn palette\n",
    "df['MSZoning'].value_counts().plot.pie(autopct='%1.1f%%', startangle=90, colors=sns.color_palette(\"Set3\"))"
   ]
  },
  {
   "cell_type": "markdown",
   "id": "46a81c4d-1a66-4799-92f4-3e387bde140d",
   "metadata": {},
   "source": [
    "**Insights**:\n",
    "\n",
    "- The pie chart provides a clear visual representation of the dominance of the 'RL' (Residential Low Density) zoning classification, occupying a significant portion of the chart.\n",
    "- Other zoning types like 'RM', 'FV', 'RH', and 'C (all)' occupy much smaller slices, emphasizing the skewed distribution.\n",
    "- While pie charts can illustrate proportions effectively, the dominance of 'RL' makes it somewhat challenging to discern differences between the smaller categories. This underscores why alternative visualizations, like bar charts, can sometimes be more informative for such distributions."
   ]
  },
  {
   "cell_type": "markdown",
   "id": "23a9ff20-e1cc-49b3-9f5e-09285825f8f4",
   "metadata": {},
   "source": [
    "### Numerical Variables"
   ]
  },
  {
   "cell_type": "markdown",
   "id": "b81a1b5f-2bab-4374-b15e-7f883ed1fa8b",
   "metadata": {},
   "source": [
    "Numerical variables are quantitative, and their values can be measured. Analyzing numerical data involves understanding its distribution, central tendency, and variability."
   ]
  },
  {
   "cell_type": "markdown",
   "id": "f907a5ab-d9ea-44bd-9b82-1ec70ecf2125",
   "metadata": {},
   "source": [
    "\n",
    "#### Summary Statistics\n",
    "\n",
    "**Centrality and Dispersion Measures**\n",
    "\n",
    "Let's start by getting some basic statistics on our dataset to understand its scale, centrality, and spread.\n"
   ]
  },
  {
   "cell_type": "markdown",
   "id": "a4650d4c-4e31-4fb0-9abc-3ba9c40c2037",
   "metadata": {
    "id": "ONytB4d0kTQW"
   },
   "source": [
    "- The `.describe()` method provides key statistics for numerical columns (by default) in a dataframe, excluding NaN values; although it primarily targets numeric data, the `include` parameter allows for the selection of other data types."
   ]
  },
  {
   "cell_type": "code",
   "execution_count": 26,
   "id": "786a5b1f-12f9-4fa8-8adb-c92f4ca08bac",
   "metadata": {},
   "outputs": [
    {
     "data": {
      "text/html": [
       "<div>\n",
       "<style scoped>\n",
       "    .dataframe tbody tr th:only-of-type {\n",
       "        vertical-align: middle;\n",
       "    }\n",
       "\n",
       "    .dataframe tbody tr th {\n",
       "        vertical-align: top;\n",
       "    }\n",
       "\n",
       "    .dataframe thead th {\n",
       "        text-align: right;\n",
       "    }\n",
       "</style>\n",
       "<table border=\"1\" class=\"dataframe\">\n",
       "  <thead>\n",
       "    <tr style=\"text-align: right;\">\n",
       "      <th></th>\n",
       "      <th>MSSubClass</th>\n",
       "      <th>LotFrontage</th>\n",
       "      <th>LotArea</th>\n",
       "      <th>OverallQual</th>\n",
       "      <th>OverallCond</th>\n",
       "      <th>YearBuilt</th>\n",
       "      <th>YearRemodAdd</th>\n",
       "      <th>MasVnrArea</th>\n",
       "      <th>BsmtFinSF1</th>\n",
       "      <th>BsmtFinSF2</th>\n",
       "      <th>...</th>\n",
       "      <th>WoodDeckSF</th>\n",
       "      <th>OpenPorchSF</th>\n",
       "      <th>EnclosedPorch</th>\n",
       "      <th>3SsnPorch</th>\n",
       "      <th>ScreenPorch</th>\n",
       "      <th>PoolArea</th>\n",
       "      <th>MiscVal</th>\n",
       "      <th>MoSold</th>\n",
       "      <th>YrSold</th>\n",
       "      <th>SalePrice</th>\n",
       "    </tr>\n",
       "  </thead>\n",
       "  <tbody>\n",
       "    <tr>\n",
       "      <th>count</th>\n",
       "      <td>1460.000000</td>\n",
       "      <td>1201.000000</td>\n",
       "      <td>1460.000000</td>\n",
       "      <td>1460.000000</td>\n",
       "      <td>1460.000000</td>\n",
       "      <td>1460.000000</td>\n",
       "      <td>1460.000000</td>\n",
       "      <td>1452.000000</td>\n",
       "      <td>1460.000000</td>\n",
       "      <td>1460.000000</td>\n",
       "      <td>...</td>\n",
       "      <td>1460.000000</td>\n",
       "      <td>1460.000000</td>\n",
       "      <td>1460.000000</td>\n",
       "      <td>1460.000000</td>\n",
       "      <td>1460.000000</td>\n",
       "      <td>1460.000000</td>\n",
       "      <td>1460.000000</td>\n",
       "      <td>1460.000000</td>\n",
       "      <td>1460.000000</td>\n",
       "      <td>1460.000000</td>\n",
       "    </tr>\n",
       "    <tr>\n",
       "      <th>mean</th>\n",
       "      <td>56.897260</td>\n",
       "      <td>70.049958</td>\n",
       "      <td>10516.828082</td>\n",
       "      <td>6.099315</td>\n",
       "      <td>5.575342</td>\n",
       "      <td>1971.267808</td>\n",
       "      <td>1984.865753</td>\n",
       "      <td>103.685262</td>\n",
       "      <td>443.639726</td>\n",
       "      <td>46.549315</td>\n",
       "      <td>...</td>\n",
       "      <td>94.244521</td>\n",
       "      <td>46.660274</td>\n",
       "      <td>21.954110</td>\n",
       "      <td>3.409589</td>\n",
       "      <td>15.060959</td>\n",
       "      <td>2.758904</td>\n",
       "      <td>43.489041</td>\n",
       "      <td>6.321918</td>\n",
       "      <td>2007.815753</td>\n",
       "      <td>180921.195890</td>\n",
       "    </tr>\n",
       "    <tr>\n",
       "      <th>std</th>\n",
       "      <td>42.300571</td>\n",
       "      <td>24.284752</td>\n",
       "      <td>9981.264932</td>\n",
       "      <td>1.382997</td>\n",
       "      <td>1.112799</td>\n",
       "      <td>30.202904</td>\n",
       "      <td>20.645407</td>\n",
       "      <td>181.066207</td>\n",
       "      <td>456.098091</td>\n",
       "      <td>161.319273</td>\n",
       "      <td>...</td>\n",
       "      <td>125.338794</td>\n",
       "      <td>66.256028</td>\n",
       "      <td>61.119149</td>\n",
       "      <td>29.317331</td>\n",
       "      <td>55.757415</td>\n",
       "      <td>40.177307</td>\n",
       "      <td>496.123024</td>\n",
       "      <td>2.703626</td>\n",
       "      <td>1.328095</td>\n",
       "      <td>79442.502883</td>\n",
       "    </tr>\n",
       "    <tr>\n",
       "      <th>min</th>\n",
       "      <td>20.000000</td>\n",
       "      <td>21.000000</td>\n",
       "      <td>1300.000000</td>\n",
       "      <td>1.000000</td>\n",
       "      <td>1.000000</td>\n",
       "      <td>1872.000000</td>\n",
       "      <td>1950.000000</td>\n",
       "      <td>0.000000</td>\n",
       "      <td>0.000000</td>\n",
       "      <td>0.000000</td>\n",
       "      <td>...</td>\n",
       "      <td>0.000000</td>\n",
       "      <td>0.000000</td>\n",
       "      <td>0.000000</td>\n",
       "      <td>0.000000</td>\n",
       "      <td>0.000000</td>\n",
       "      <td>0.000000</td>\n",
       "      <td>0.000000</td>\n",
       "      <td>1.000000</td>\n",
       "      <td>2006.000000</td>\n",
       "      <td>34900.000000</td>\n",
       "    </tr>\n",
       "    <tr>\n",
       "      <th>25%</th>\n",
       "      <td>20.000000</td>\n",
       "      <td>59.000000</td>\n",
       "      <td>7553.500000</td>\n",
       "      <td>5.000000</td>\n",
       "      <td>5.000000</td>\n",
       "      <td>1954.000000</td>\n",
       "      <td>1967.000000</td>\n",
       "      <td>0.000000</td>\n",
       "      <td>0.000000</td>\n",
       "      <td>0.000000</td>\n",
       "      <td>...</td>\n",
       "      <td>0.000000</td>\n",
       "      <td>0.000000</td>\n",
       "      <td>0.000000</td>\n",
       "      <td>0.000000</td>\n",
       "      <td>0.000000</td>\n",
       "      <td>0.000000</td>\n",
       "      <td>0.000000</td>\n",
       "      <td>5.000000</td>\n",
       "      <td>2007.000000</td>\n",
       "      <td>129975.000000</td>\n",
       "    </tr>\n",
       "    <tr>\n",
       "      <th>50%</th>\n",
       "      <td>50.000000</td>\n",
       "      <td>69.000000</td>\n",
       "      <td>9478.500000</td>\n",
       "      <td>6.000000</td>\n",
       "      <td>5.000000</td>\n",
       "      <td>1973.000000</td>\n",
       "      <td>1994.000000</td>\n",
       "      <td>0.000000</td>\n",
       "      <td>383.500000</td>\n",
       "      <td>0.000000</td>\n",
       "      <td>...</td>\n",
       "      <td>0.000000</td>\n",
       "      <td>25.000000</td>\n",
       "      <td>0.000000</td>\n",
       "      <td>0.000000</td>\n",
       "      <td>0.000000</td>\n",
       "      <td>0.000000</td>\n",
       "      <td>0.000000</td>\n",
       "      <td>6.000000</td>\n",
       "      <td>2008.000000</td>\n",
       "      <td>163000.000000</td>\n",
       "    </tr>\n",
       "    <tr>\n",
       "      <th>75%</th>\n",
       "      <td>70.000000</td>\n",
       "      <td>80.000000</td>\n",
       "      <td>11601.500000</td>\n",
       "      <td>7.000000</td>\n",
       "      <td>6.000000</td>\n",
       "      <td>2000.000000</td>\n",
       "      <td>2004.000000</td>\n",
       "      <td>166.000000</td>\n",
       "      <td>712.250000</td>\n",
       "      <td>0.000000</td>\n",
       "      <td>...</td>\n",
       "      <td>168.000000</td>\n",
       "      <td>68.000000</td>\n",
       "      <td>0.000000</td>\n",
       "      <td>0.000000</td>\n",
       "      <td>0.000000</td>\n",
       "      <td>0.000000</td>\n",
       "      <td>0.000000</td>\n",
       "      <td>8.000000</td>\n",
       "      <td>2009.000000</td>\n",
       "      <td>214000.000000</td>\n",
       "    </tr>\n",
       "    <tr>\n",
       "      <th>max</th>\n",
       "      <td>190.000000</td>\n",
       "      <td>313.000000</td>\n",
       "      <td>215245.000000</td>\n",
       "      <td>10.000000</td>\n",
       "      <td>9.000000</td>\n",
       "      <td>2010.000000</td>\n",
       "      <td>2010.000000</td>\n",
       "      <td>1600.000000</td>\n",
       "      <td>5644.000000</td>\n",
       "      <td>1474.000000</td>\n",
       "      <td>...</td>\n",
       "      <td>857.000000</td>\n",
       "      <td>547.000000</td>\n",
       "      <td>552.000000</td>\n",
       "      <td>508.000000</td>\n",
       "      <td>480.000000</td>\n",
       "      <td>738.000000</td>\n",
       "      <td>15500.000000</td>\n",
       "      <td>12.000000</td>\n",
       "      <td>2010.000000</td>\n",
       "      <td>755000.000000</td>\n",
       "    </tr>\n",
       "  </tbody>\n",
       "</table>\n",
       "<p>8 rows × 37 columns</p>\n",
       "</div>"
      ],
      "text/plain": [
       "        MSSubClass  LotFrontage        LotArea  OverallQual  OverallCond  \\\n",
       "count  1460.000000  1201.000000    1460.000000  1460.000000  1460.000000   \n",
       "mean     56.897260    70.049958   10516.828082     6.099315     5.575342   \n",
       "std      42.300571    24.284752    9981.264932     1.382997     1.112799   \n",
       "min      20.000000    21.000000    1300.000000     1.000000     1.000000   \n",
       "25%      20.000000    59.000000    7553.500000     5.000000     5.000000   \n",
       "50%      50.000000    69.000000    9478.500000     6.000000     5.000000   \n",
       "75%      70.000000    80.000000   11601.500000     7.000000     6.000000   \n",
       "max     190.000000   313.000000  215245.000000    10.000000     9.000000   \n",
       "\n",
       "         YearBuilt  YearRemodAdd   MasVnrArea   BsmtFinSF1   BsmtFinSF2  ...  \\\n",
       "count  1460.000000   1460.000000  1452.000000  1460.000000  1460.000000  ...   \n",
       "mean   1971.267808   1984.865753   103.685262   443.639726    46.549315  ...   \n",
       "std      30.202904     20.645407   181.066207   456.098091   161.319273  ...   \n",
       "min    1872.000000   1950.000000     0.000000     0.000000     0.000000  ...   \n",
       "25%    1954.000000   1967.000000     0.000000     0.000000     0.000000  ...   \n",
       "50%    1973.000000   1994.000000     0.000000   383.500000     0.000000  ...   \n",
       "75%    2000.000000   2004.000000   166.000000   712.250000     0.000000  ...   \n",
       "max    2010.000000   2010.000000  1600.000000  5644.000000  1474.000000  ...   \n",
       "\n",
       "        WoodDeckSF  OpenPorchSF  EnclosedPorch    3SsnPorch  ScreenPorch  \\\n",
       "count  1460.000000  1460.000000    1460.000000  1460.000000  1460.000000   \n",
       "mean     94.244521    46.660274      21.954110     3.409589    15.060959   \n",
       "std     125.338794    66.256028      61.119149    29.317331    55.757415   \n",
       "min       0.000000     0.000000       0.000000     0.000000     0.000000   \n",
       "25%       0.000000     0.000000       0.000000     0.000000     0.000000   \n",
       "50%       0.000000    25.000000       0.000000     0.000000     0.000000   \n",
       "75%     168.000000    68.000000       0.000000     0.000000     0.000000   \n",
       "max     857.000000   547.000000     552.000000   508.000000   480.000000   \n",
       "\n",
       "          PoolArea       MiscVal       MoSold       YrSold      SalePrice  \n",
       "count  1460.000000   1460.000000  1460.000000  1460.000000    1460.000000  \n",
       "mean      2.758904     43.489041     6.321918  2007.815753  180921.195890  \n",
       "std      40.177307    496.123024     2.703626     1.328095   79442.502883  \n",
       "min       0.000000      0.000000     1.000000  2006.000000   34900.000000  \n",
       "25%       0.000000      0.000000     5.000000  2007.000000  129975.000000  \n",
       "50%       0.000000      0.000000     6.000000  2008.000000  163000.000000  \n",
       "75%       0.000000      0.000000     8.000000  2009.000000  214000.000000  \n",
       "max     738.000000  15500.000000    12.000000  2010.000000  755000.000000  \n",
       "\n",
       "[8 rows x 37 columns]"
      ]
     },
     "execution_count": 26,
     "metadata": {},
     "output_type": "execute_result"
    }
   ],
   "source": [
    "# Summary statistics for the dataset\n",
    "df.describe()"
   ]
  },
  {
   "cell_type": "markdown",
   "id": "719dd6e3-9b00-4741-bab8-799716df1f72",
   "metadata": {},
   "source": [
    "From `describe()` we get:\n",
    "- Measures of centrality: mean, median (indicated as 50%)\n",
    "- Measures of dispersion: standard deviation (std), minimum, maximum, quartiles (Q1, Q2, Q3, indicated as 25%, 50%, and 75% respectively)"
   ]
  },
  {
   "cell_type": "markdown",
   "id": "a49d13cb-f073-4afd-9385-f6a69a9999a4",
   "metadata": {},
   "source": [
    "**Insights** from Summary Statistics for 'SalePrice':\n",
    "\n",
    "- The average (mean) sale price of the houses in the dataset is approximately `$180,921`.\n",
    "\n",
    "- The median sale price (middle value when sorted) stands at `$163,000`. Notably, the median is lower than the mean, suggesting a skew in the distribution of sale prices towards higher values.\n",
    "\n",
    "- The standard deviation, a measure of the amount of variation or dispersion in the sale prices, is approximately `$79,442`. This indicates that sale prices can vary significantly from the average.\n",
    "\n",
    "- The minimum and maximum sale prices are `$34,900` and `$755,000`, respectively, highlighting a wide range of property values in the dataset.\n",
    "\n",
    "- The interquartile range (IQR), given by the values at 25% (Q1) and 75% (Q3), is between `$129,975` and `$214,000`. This means that 50% of the houses in the dataset were sold within this price range."
   ]
  },
  {
   "cell_type": "markdown",
   "id": "86919e49-bc58-4e18-888e-11e1e9ca7685",
   "metadata": {},
   "source": [
    "#### More Centrality and Dispersion Measures"
   ]
  },
  {
   "cell_type": "markdown",
   "id": "76a24929-1526-4de1-9819-b099dc5bce9b",
   "metadata": {},
   "source": [
    "Now, suppose we want to calculate individual statistical measures without using the `.describe()` method. Here are some ways to do it:\n",
    "\n",
    "- `df[column].mean()`: Computes the mean of the selected column.\n",
    "- `df[column].median()`: Calculates the median of the selected column.\n",
    "- `df[column].mode()`: Identifies the mode of the selected column.\n",
    "- `df[column].std()`: Determines the standard deviation of the selected column.\n",
    "- `df[column].var()`: Computes the variance of the selected column.\n",
    "- `df[column].min()`: Finds the minimum value in the selected column.\n",
    "- `df[column].max()`: Finds the maximum value in the selected column.\n",
    "- `df[column].count()`: Counts the number of non-NaN entries in the selected column.\n",
    "\n",
    "In these examples, replace `column` with the name of the column you want to analyze."
   ]
  },
  {
   "cell_type": "markdown",
   "id": "03ec8229-d147-4723-b60c-2d86fda0f25c",
   "metadata": {},
   "source": [
    "For this section, we'll focus on 'SalePrice' as our numerical variable of interest, which represents the price at which the house was sold."
   ]
  },
  {
   "cell_type": "markdown",
   "id": "56ad0a86-9dbc-41cf-a4ef-2d9db5abaf1c",
   "metadata": {},
   "source": [
    "**Measures of Centrality**"
   ]
  },
  {
   "cell_type": "code",
   "execution_count": 27,
   "id": "5eab9447-72dd-4ef7-bb14-d8b3d8d9a4b4",
   "metadata": {},
   "outputs": [
    {
     "data": {
      "text/plain": [
       "(np.float64(180921.19589041095), np.float64(163000.0), np.int64(140000))"
      ]
     },
     "execution_count": 27,
     "metadata": {},
     "output_type": "execute_result"
    }
   ],
   "source": [
    "mean_price = df['SalePrice'].mean()\n",
    "median_price = df['SalePrice'].median()\n",
    "mode_price = df['SalePrice'].mode()[0]\n",
    "\n",
    "mean_price, median_price, mode_price"
   ]
  },
  {
   "cell_type": "markdown",
   "id": "ed711095-af57-44bd-9282-e9bc1d0b5dad",
   "metadata": {},
   "source": [
    "**Measures of Dispersion**"
   ]
  },
  {
   "cell_type": "code",
   "execution_count": 28,
   "id": "0a145d06-f9b3-4286-86dc-dd7d3c3165c0",
   "metadata": {},
   "outputs": [
    {
     "data": {
      "text/plain": [
       "(np.float64(6311111264.297448),\n",
       " np.float64(79442.50288288662),\n",
       " np.int64(34900),\n",
       " np.int64(755000),\n",
       " np.int64(720100),\n",
       " 0.25    129975.0\n",
       " 0.50    163000.0\n",
       " 0.75    214000.0\n",
       " Name: SalePrice, dtype: float64)"
      ]
     },
     "execution_count": 28,
     "metadata": {},
     "output_type": "execute_result"
    }
   ],
   "source": [
    "variance_price = df['SalePrice'].var()\n",
    "std_dev_price = df['SalePrice'].std()\n",
    "min_price = df['SalePrice'].min()\n",
    "max_price = df['SalePrice'].max()\n",
    "range_price = max_price - min_price\n",
    "quantiles_price = df['SalePrice'].quantile([0.25, 0.5, 0.75])\n",
    "\n",
    "variance_price, std_dev_price, min_price, max_price, range_price, quantiles_price"
   ]
  },
  {
   "cell_type": "code",
   "execution_count": 29,
   "id": "1d8ecf70-d13e-4c5c-af6c-5da207c695d3",
   "metadata": {},
   "outputs": [
    {
     "data": {
      "text/plain": [
       "np.float64(106475.0)"
      ]
     },
     "execution_count": 29,
     "metadata": {},
     "output_type": "execute_result"
    }
   ],
   "source": [
    "df['SalePrice'].quantile(0.1) # We can get any quantile value, not just quartiles"
   ]
  },
  {
   "cell_type": "markdown",
   "id": "f00cb3c2-419b-41a3-8690-2500b7fe59c1",
   "metadata": {},
   "source": [
    "**Insights** from Measures of Centrality and Dispersion for 'SalePrice', for those metrics not calcualted in `describe()`:\n",
    "\n",
    "- **Centrality**:\n",
    "  - The most frequent (mode) sale price is $140,000. This value appears more frequently than any other price in the dataset.\n",
    "  \n",
    "- **Dispersion**:\n",
    "  - The variance, a measure of how far each sale price in the set is from the mean, is approximately \\(6,311,111,264\\). A high variance implies that sale prices can be quite different from one another.\n",
    "  - The range of sale prices is $720,100, calculated as the difference between the maximum and minimum prices. This wide range underscores the diversity in property prices within the dataset."
   ]
  },
  {
   "cell_type": "markdown",
   "id": "4db5c868-7c18-4615-af3c-59738959e533",
   "metadata": {},
   "source": [
    "#### Shape of the Distribution\n",
    "\n",
    "Skewness and kurtosis provide insights into the shape of the data distribution. Skewness indicates the asymmetry, and kurtosis tells us about the \"tailedness\" or how peaked the distribution is."
   ]
  },
  {
   "cell_type": "code",
   "execution_count": 30,
   "id": "1d4274cb-a96d-4a55-9320-543c5647d9ae",
   "metadata": {},
   "outputs": [
    {
     "data": {
      "text/plain": [
       "(np.float64(1.8828757597682129), np.float64(6.536281860064529))"
      ]
     },
     "execution_count": 30,
     "metadata": {},
     "output_type": "execute_result"
    }
   ],
   "source": [
    "skewness_price = df['SalePrice'].skew()\n",
    "kurtosis_price = df['SalePrice'].kurtosis()\n",
    "\n",
    "skewness_price, kurtosis_price"
   ]
  },
  {
   "cell_type": "markdown",
   "id": "36008113-6fe6-4d64-814e-e5e3def144c5",
   "metadata": {},
   "source": [
    "- Skewness of 'SalePrice': \\(1.88\\)\n",
    "- Kurtosis of 'SalePrice': \\(6.54\\)\n",
    "\n",
    "**Insights**:\n",
    "\n",
    "1. **Skewness**: The positive value of skewness (1.88) for the 'SalePrice' indicates that the distribution is right-skewed. This means that the tail on the right side (higher prices) is longer than the left side (lower prices). In practical terms, this suggests that there are a significant number of houses that are sold at higher prices, which are acting as outliers and pulling the mean upwards.\n",
    "  \n",
    "2. **Kurtosis**: The kurtosis value of 6.54 is greater than 3, which indicates that the 'SalePrice' distribution has heavier tails and a sharper peak compared to a normal distribution. This means that there are more outliers (extreme values) in the 'SalePrice' than one would expect in a normally distributed set.\n",
    "\n",
    "The skewness and kurtosis values suggest that there are some houses that are sold at significantly higher prices than the majority, and these are affecting the overall distribution of house prices in the dataset."
   ]
  },
  {
   "cell_type": "markdown",
   "id": "befeeb5b-0b95-4352-8670-2e7e948ab56a",
   "metadata": {},
   "source": [
    "#### Visualizations\n",
    "\n",
    "Visual tools like histograms and box plots offer insights into the distribution, variability, and potential outliers in numerical data."
   ]
  },
  {
   "cell_type": "markdown",
   "id": "06648e1c-7968-4dae-8e9c-21541ad6a03b",
   "metadata": {},
   "source": [
    "##### Histograms"
   ]
  },
  {
   "cell_type": "markdown",
   "id": "953101be-e2d6-4155-970a-c26b478ab591",
   "metadata": {},
   "source": [
    "Histograms display the frequency distribution of a dataset. The height of each bar represents the number of data points in each bin."
   ]
  },
  {
   "cell_type": "code",
   "execution_count": 31,
   "id": "2e684002-928b-46b7-ba9d-2315819d96b1",
   "metadata": {},
   "outputs": [
    {
     "data": {
      "text/plain": [
       "<Axes: xlabel='SalePrice', ylabel='Count'>"
      ]
     },
     "execution_count": 31,
     "metadata": {},
     "output_type": "execute_result"
    },
    {
     "data": {
      "image/png": "[encoded data removed]",
      "text/plain": [
       "<Figure size 640x480 with 1 Axes>"
      ]
     },
     "metadata": {},
     "output_type": "display_data"
    }
   ],
   "source": [
    "# Plotting a histogram for the 'SalePrice' column of the 'data' dataframe\n",
    "# 'kde=True' adds a Kernel Density Estimate plot to give an approximation of the data's distribution\n",
    "# 'bins=30' divides the data into 30 bins for more detailed granularity\n",
    "# 'color=\"salmon\"' sets the color of the bars to salmon\n",
    "sns.histplot(df['SalePrice'], kde=True, bins=30, color=\"salmon\")"
   ]
  },
  {
   "cell_type": "markdown",
   "id": "f4574e86-a9fd-4525-9ad3-e4d49a25b1e8",
   "metadata": {},
   "source": [
    "**Insights:**\n",
    "- The histogram reveals that the majority of the houses are sold in the price range of approximately `$100,000` to `$250,000`. However, there's a long tail on the right side, confirming our earlier inference from the skewness value that there are houses sold at much higher prices. The Kernel Density Estimate (the smooth line) also shows the right-skewed nature of the distribution."
   ]
  },
  {
   "cell_type": "markdown",
   "id": "5119cefa-c6f5-4104-866a-da2e3ff27e00",
   "metadata": {},
   "source": [
    "If we wanted to plot at the same time all the numerical variables with histograms, without a for loop, we could do so using matplotlib:"
   ]
  },
  {
   "cell_type": "code",
   "execution_count": 32,
   "id": "359588f9-0e23-429e-b399-08bb6bb81512",
   "metadata": {
    "id": "kauVqFc2kTQb",
    "outputId": "c86cd630-811a-404d-a9db-61961cbd0fad"
   },
   "outputs": [
    {
     "data": {
      "image/png": "[encoded data removed]",
      "text/plain": [
       "<Figure size 1500x2000 with 25 Axes>"
      ]
     },
     "metadata": {},
     "output_type": "display_data"
    }
   ],
   "source": [
    "# Creating histograms for each numerical column in 'df_numerical'\n",
    "df_numerical.hist(figsize=(15, 20), bins=60, xlabelsize=10, ylabelsize=10);"
   ]
  },
  {
   "cell_type": "markdown",
   "id": "31a7f215-d03b-4dc1-8d32-725db6cb4caf",
   "metadata": {
    "id": "J42HEIGLkTQb"
   },
   "source": [
    "Just by looking at it, which ones do you think could be correlated to SalePrice?"
   ]
  },
  {
   "cell_type": "markdown",
   "id": "042e4152-a538-41c5-a82a-db95d173e561",
   "metadata": {},
   "source": [
    "##### Box plots"
   ]
  },
  {
   "cell_type": "markdown",
   "id": "769335b7-0e7f-4509-b2f0-54b4ef6e9cf5",
   "metadata": {},
   "source": [
    "Box plots, or whisker plots, showcase the central 50% of the data (interquartile range), potential outliers, and other statistical properties."
   ]
  },
  {
   "cell_type": "code",
   "execution_count": 33,
   "id": "8643b1a3-2fef-4bca-a30f-b063fc42ab95",
   "metadata": {},
   "outputs": [
    {
     "data": {
      "text/plain": [
       "<Axes: ylabel='SalePrice'>"
      ]
     },
     "execution_count": 33,
     "metadata": {},
     "output_type": "execute_result"
    },
    {
     "data": {
      "image/png": "[encoded data removed]",
      "text/plain": [
       "<Figure size 640x480 with 1 Axes>"
      ]
     },
     "metadata": {},
     "output_type": "display_data"
    }
   ],
   "source": [
    "# Plotting a boxplot for the 'SalePrice' column with a light blue color\n",
    "sns.boxplot(data = df['SalePrice'], color=\"lightblue\")"
   ]
  },
  {
   "cell_type": "markdown",
   "id": "f3a198b4-d02b-4031-819b-3fd5d4356c2c",
   "metadata": {},
   "source": [
    "\n",
    "**Insights:**\n",
    "- The box plot gives us a visual representation of the central 50% of the data (the interquartile range) with the median price shown as a line inside the box. The whiskers extend to 1.5 times the interquartile range, and points outside of this range are considered outliers. As observed, there are several outlier points on the higher end of the sale prices, which aligns with our earlier insights about houses sold at significantly higher prices.\n",
    "\n",
    "Both visualizations underscore the presence of outliers in the higher price range. These outliers might be luxury homes or properties in prime locations, and special attention might be needed when building predictive models, as these outliers can influence model performance."
   ]
  },
  {
   "cell_type": "markdown",
   "id": "bc9ded74-b151-42d6-b68e-3329040cdc87",
   "metadata": {},
   "source": [
    "## Converting continuous to discrete variables: Discretization"
   ]
  },
  {
   "cell_type": "markdown",
   "id": "95362e46-0cda-49e5-a48c-ec56af5cc535",
   "metadata": {},
   "source": [
    "Discretization is the process of converting continuous variables into discrete ones by creating a set of contiguous intervals (or bins) and then categorizing the variables into these intervals. This can be particularly useful when you want to categorize a continuous variable into different groups based on ranges. Note that we usually lose information in this process.\n",
    "\n",
    "For our dataset, let's take the 'SalePrice' column, which is continuous, and discretize it into categories like 'Low', 'Medium', 'High', and 'Very High'."
   ]
  },
  {
   "cell_type": "code",
   "execution_count": 34,
   "id": "3e4b2bd0-7277-44d5-92a9-28f63ef10eb5",
   "metadata": {},
   "outputs": [],
   "source": [
    "# Discretizing 'SalePrice' into 4 categories\n",
    "bins = [0, 100000, 200000, 300000, df['SalePrice'].max()]\n",
    "labels = ['Low', 'Medium', 'High', 'Very High']\n",
    "df['SalePrice_category'] = pd.cut(df['SalePrice'], bins=bins, labels=labels, include_lowest=True)"
   ]
  },
  {
   "cell_type": "code",
   "execution_count": 35,
   "id": "8c1aee19-5644-4cab-8568-9afe466a904f",
   "metadata": {},
   "outputs": [
    {
     "data": {
      "text/plain": [
       "SalePrice_category\n",
       "Medium       910\n",
       "High         312\n",
       "Low          123\n",
       "Very High    115\n",
       "Name: count, dtype: int64"
      ]
     },
     "execution_count": 35,
     "metadata": {},
     "output_type": "execute_result"
    }
   ],
   "source": [
    "df.SalePrice_category.value_counts()"
   ]
  },
  {
   "cell_type": "markdown",
   "id": "eed3b58c-917a-455a-98f8-8ebc02f00cfd",
   "metadata": {},
   "source": [
    "Another useful option is **discretizing by quantiles**. This means dividing the data into intervals based on specific quantile values. This ensures that each bin has (approximately) the same number of data points. The `pandas` library provides a convenient method, `qcut()`, for this purpose.\n",
    "\n",
    "Discretizing by quantiles can be particularly useful when you want to create categories that represent relative rankings (like low, medium, high, etc.) based on the distribution of the data, rather than fixed numeric ranges.\n",
    "\n",
    "**Step 1**: Choose the number of quantiles (or bins). For example, if you want quartiles, you would choose 4 bins. \n",
    "\n",
    "**Step 2**: Use the `qcut()` function from `pandas`."
   ]
  },
  {
   "cell_type": "code",
   "execution_count": 36,
   "id": "bd354287-f6b3-4e4a-a4a6-dcc51859b069",
   "metadata": {},
   "outputs": [
    {
     "data": {
      "text/plain": [
       "SalePrice_category\n",
       "Medium       910\n",
       "High         312\n",
       "Low          123\n",
       "Very High    115\n",
       "Name: count, dtype: int64"
      ]
     },
     "execution_count": 36,
     "metadata": {},
     "output_type": "execute_result"
    }
   ],
   "source": [
    "# Discretizing 'SalePrice' into quartiles\n",
    "df['SalePrice_quantile'] = pd.qcut(df['SalePrice'], q=4, labels=['Q1', 'Q2', 'Q3', 'Q4'])\n",
    "\n",
    "df.SalePrice_category.value_counts()"
   ]
  },
  {
   "cell_type": "markdown",
   "id": "4514685c-1aee-449d-b3c7-0af19e12d16f",
   "metadata": {},
   "source": [
    "In the above code:\n",
    "- `q=4` indicates that we want to divide the data into 4 quantiles (quartiles).\n",
    "- `labels=['Q1', 'Q2', 'Q3', 'Q4']` provides custom labels for each quantile bin.\n",
    "\n",
    "The resulting 'SalePrice_quantile' column will categorize each house's sale price into one of the four quartiles."
   ]
  },
  {
   "cell_type": "markdown",
   "id": "50ab5c02-19b9-4a37-b6e3-e59ff639e207",
   "metadata": {},
   "source": [
    "By discretizing 'SalePrice', we have transformed a continuous variable into categorical bins. This can simplify the analysis by grouping houses into broad price categories. For example, you can now easily analyze the number of houses in each price range or determine if certain features are more common in high-priced houses compared to low-priced ones."
   ]
  },
  {
   "cell_type": "markdown",
   "id": "1d1e65ac-595c-433e-8a60-44a3c3d4749d",
   "metadata": {
    "toc-hr-collapsed": true
   },
   "source": [
    "### 💡 Check for understanding"
   ]
  },
  {
   "cell_type": "markdown",
   "id": "59999a74-d893-4b18-b2f0-3dd9633e36b7",
   "metadata": {},
   "source": [
    "Discretize the '1stFlrSF' column (first-floor square feet) into three categories: 'Small', 'Medium', 'Large'. Set the bins such that 'Small' includes sizes up to the 33rd percentile, 'Medium' includes sizes from the 33rd to the 66th percentile, and 'Large' includes sizes from the 66th percentile onward. How many houses fall into each category?"
   ]
  },
  {
   "cell_type": "code",
   "execution_count": 37,
   "id": "4740fb35-abfe-4b88-b007-abf6b62a5d17",
   "metadata": {},
   "outputs": [],
   "source": [
    "# Your code goes here"
   ]
  },
  {
   "cell_type": "markdown",
   "id": "081e27b3-bb94-4400-97a9-483df3ab1e12",
   "metadata": {},
   "source": [
    "## Summary\n",
    "\n",
    "In this lesson, we've conducted a comprehensive univariate analysis:\n",
    "\n",
    "- For **categorical variables**, we visualized the distribution of our zoning classifications with bar and pie charts, backed by frequency tables.\n",
    "- For **numerical variables**, we explored the central tendencies, dispersions and shape of distribution of our sale prices, visualized through histograms and box plots.\n",
    "\n",
    "This analysis allows us to deeply understand each variable, laying a strong foundation for subsequent multivariate analyses."
   ]
  },
  {
   "cell_type": "markdown",
   "id": "8e61c560-bd90-42a7-94a9-d19c50d1b25e",
   "metadata": {
    "toc-hr-collapsed": true
   },
   "source": [
    "## 💡 Check for understanding"
   ]
  },
  {
   "cell_type": "markdown",
   "id": "3fbdddec-f56b-44d0-87aa-a7570101d769",
   "metadata": {},
   "source": [
    "**Scenario**:\n",
    "Given the 'TotRmsAbvGrd' column (total rooms above ground), let's dive deep into its univariate characteristics.\n",
    "\n",
    "**Tasks**:\n",
    "\n",
    "1. **Data Aggregation**:\n",
    "    - Create a frequency table for 'TotRmsAbvGrd' to understand the distribution of the number of rooms in houses.\n",
    "    - Calculate the mean, median, mode, variance, and standard deviation of 'TotRmsAbvGrd'.\n",
    "\n",
    "2. **Visualization**:\n",
    "    - Plot a histogram for 'TotRmsAbvGrd' to understand its distribution.\n",
    "    - Plot a box plot for 'TotRmsAbvGrd' to visualize its central tendency, spread, and potential outliers.\n",
    "\n",
    "3. **Interpretation**:\n",
    "    - Is the distribution of the number of rooms skewed? If so, in which direction?\n",
    "    - Based on the histogram and box plot, what can you infer about the common number of rooms above ground in houses? \n",
    "    - Are there any noticeable outliers in the number of rooms? If so, are there more houses with unusually many rooms or unusually few?\n"
   ]
  },
  {
   "cell_type": "code",
   "execution_count": null,
   "id": "ff95663d-01b7-47b7-9285-869b8792ad24",
   "metadata": {},
   "outputs": [],
   "source": [
    "# Your code goes here"
   ]
  }
 ],
 "metadata": {
  "kernelspec": {
   "display_name": "Python 3 (ipykernel)",
   "language": "python",
   "name": "python3"
  },
  "language_info": {
   "codemirror_mode": {
    "name": "ipython",
    "version": 3
   },
   "file_extension": ".py",
   "mimetype": "text/x-python",
   "name": "python",
   "nbconvert_exporter": "python",
   "pygments_lexer": "ipython3",
   "version": "3.12.4"
  }
 },
 "nbformat": 4,
 "nbformat_minor": 5
}

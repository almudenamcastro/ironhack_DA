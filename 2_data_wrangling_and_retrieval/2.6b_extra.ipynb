{
    "cells": [
     {
      "cell_type": "markdown",
      "metadata": {},
      "source": [
       "## Webscrapping tip"
      ]
     },
     {
      "cell_type": "markdown",
      "metadata": {},
      "source": [
       "Aquí un código bastante sencillo pero que sera la base para cualquier proyecto de Webscrapping.\n",
       "Información para el Laboratorio de Web Scraping: :tecnólogo::tono-de-piel-2:\n",
       "La página de IMDb detecta los robots, por lo tanto, es necesario agregar unos encabezados para engañar al sitio web y hacer que piense que somos humanos:\n",
       "Código de ejemplo muy básico para utilizar en el laboratorio:"
      ]
     },
     {
      "cell_type": "code",
      "execution_count": null,
      "metadata": {},
      "outputs": [],
      "source": [
       "\n",
       "import pandas as pd\n",
       "from bs4 import BeautifulSoup\n",
       "import requests\n",
       "\n",
       "headers = {\n",
       "    'User-Agent': 'Mozilla/5.0 (Windows NT 10.0; Win64; x64) AppleWebKit/537.36 (KHTML, like Gecko) Chrome/58.0.3029.110 Safari/537.3',\n",
       "    'Accept-Language': 'en-US,en;q=0.9',\n",
       "    'Accept-Encoding': 'gzip, deflate, br',\n",
       "    'Accept': 'text/html,application/xhtml+xml,application/xml;q=0.9,image/webp,image/apng,*/*;q=0.8',\n",
       "    'Connection': 'keep-alive',\n",
       "    'Upgrade-Insecure-Requests': '1',\n",
       "    'Referer': 'https://www.google.com'\n",
       "}\n",
       "\n",
       "# Definir la URL\n",
       "\n",
       "url = f\"https://www.imdb.com/search/title/?title_type={title_type}..........A. COMPLETAR.........\"\n",
       "\n",
       "# Llamar la URL:\n",
       "\n",
       "response = requests.get(url, headers=headers)\n",
       "\n",
       "# Convertir en sopa:\n",
       "\n",
       "soup = BeautifulSoup(response.content, 'html.parser')\n",
       "\n",
       "#Buscar los elementos:\n",
       "\n",
       "soup.find_all('li', class_='ipc-metadata-list-summary-item')\n"
      ]
     }
    ],
    "metadata": {
     "language_info": {
      "name": "python"
     }
    },
    "nbformat": 4,
    "nbformat_minor": 2
   }
   
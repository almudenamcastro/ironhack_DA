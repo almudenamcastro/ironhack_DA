{
 "cells": [
  {
   "cell_type": "markdown",
   "metadata": {},
   "source": [
    "# Technical challenge w2"
   ]
  },
  {
   "cell_type": "code",
   "execution_count": 1,
   "metadata": {},
   "outputs": [],
   "source": [
    "import pandas as pd"
   ]
  },
  {
   "cell_type": "markdown",
   "metadata": {},
   "source": [
    "## challenge 1"
   ]
  },
  {
   "cell_type": "code",
   "execution_count": 2,
   "metadata": {},
   "outputs": [],
   "source": [
    "# my solution\n",
    "\n",
    "def analyse(factbook_pop, factbook_obesity):\n",
    "    population=pd.read_csv(factbook_pop)\n",
    "    obsesity_rate=pd.read_csv(factbook_obesity)\n",
    "\n",
    "    # merge tables based on \"Name\" (the country name)\n",
    "    result = pd.merge(population, obsesity_rate, on=\"Name\", )\n",
    "\n",
    "    # clean unnecessary columns\n",
    "    result = result.drop(columns=[\"Pos_x\", \"Pos_y\"])\n",
    "\n",
    "    # rename columns\n",
    "    result.columns =[\"Country\", \"Population\", \"Obesity Rate\"] \n",
    "\n",
    "    # filter countries with population > 10.000.000 and Obesity Rate > 20\n",
    "    result = result [(result.Population > 10000000) & (result[\"Obesity Rate\"] > 20)]\n",
    "\n",
    "    # sort by Obesity Rate\n",
    "    result = result.sort_values(by=\"Obesity Rate\", ascending=False, ignore_index=True).head(10)\n",
    "    result.index += 1\n",
    "\n",
    "    return result\n"
   ]
  },
  {
   "cell_type": "code",
   "execution_count": 3,
   "metadata": {},
   "outputs": [],
   "source": [
    "# test solution\n",
    "# use the function to analyse 2 csv files\n",
    "result = analyse(\"technical_challenge_data/c2119.csv\", \"technical_challenge_data/c2228.csv\")\n",
    "\n",
    "# write csv file: \n",
    "result.to_csv(\"technical_challenge_data/result.csv\", index=False )"
   ]
  },
  {
   "cell_type": "code",
   "execution_count": null,
   "metadata": {},
   "outputs": [],
   "source": [
    "# AI solution\n",
    "def analyze(factbook_pop, factbook_obesity):\n",
    "    df_pop = pd.read_csv(factbook_pop, usecols=[\"Name\", \"Value\"])\n",
    "    df_obe = pd.read_csv(factbook_obesity, usecols=[\"Name\", \"Value\"])\n",
    "    df_pop.rename(columns={\"Value\": \"Population\"}, inplace=True)\n",
    "    df_obe.rename(columns={\"Value\": \"Obesity Rate\"}, inplace=True)\n",
    "    df = pd.merge(df_pop, df_obe, how=\"inner\", on=\"Name\")\n",
    "    df = (df[(df[\"Population\"] > 10**7) & (df[\"Obesity Rate\"] > 20.)]\n",
    "            .sort_values(\"Obesity Rate\", ascending=False)\n",
    "            .head(10)\n",
    "            .rename(columns={\"Name\": \"Country\"})\n",
    "            .reset_index(drop=True))\n",
    "    df.index += 1\n",
    "    return df"
   ]
  },
  {
   "cell_type": "markdown",
   "metadata": {},
   "source": [
    "## challenge 2"
   ]
  },
  {
   "cell_type": "code",
   "execution_count": null,
   "metadata": {},
   "outputs": [],
   "source": [
    "#my solution\n",
    "\n",
    "import pandas as pd\n",
    "\n",
    "\n",
    "def how_many_times_better_is_focused(df: pd.DataFrame) -> float:\n",
    "    \"\"\" Returns how many times better it is to focus than to divide one's attention, based on the average scores (returns the resulting ratio).\n",
    "    \"\"\"\n",
    "    # group by attention and calculate the mean score\n",
    "    df_grouped = df.groupby(\"attention\").score.mean()\n",
    "\n",
    "    # calculate how many times better it is to focus than to divide one's attention as a ratio\n",
    "    n_times = float(df_grouped[\"focused\"]/df_grouped[\"divided\"])\n",
    "    return n_times\n",
    "\n",
    "\n",
    "def highest_average_solutions(df: pd.DataFrame) -> int:\n",
    "    \"\"\" Returns the solutions id with the highest average score \"\"\"\n",
    "    df_sorted = df.groupby(\"solutions\").score.mean().sort_values(ascending=False)\n",
    "    solution_id = int(df_sorted.index[0])\n",
    "    return solution_id\n",
    "\n",
    "\n",
    "def top_10_scoring_subjects(df: pd.DataFrame) -> pd.DataFrame:\n",
    "    df = df.groupby(\"subject\", as_index=False).score.mean().sort_values(by=[\"score\", \"subject\"], ascending=[False, True])\n",
    "    df = df.head(10).reset_index()\n",
    "    \"\"\" Returns df of top 10 subjects ranked by score, descending,\n",
    "        with ties broken by subject id ascending, index reset:\n",
    "        \n",
    "       subject     score\n",
    "    0       12  8.333333\n",
    "    1       14  7.666667\n",
    "    2       15  7.666667\n",
    "    3       16  7.000000\n",
    "    4       18  7.000000\n",
    "    5        8  6.666667\n",
    "    6       13  6.666667\n",
    "    7       17  6.666667\n",
    "    8        4  5.666667\n",
    "    9        5  5.666667\n",
    "    \"\"\"\n",
    "    return df"
   ]
  },
  {
   "cell_type": "code",
   "execution_count": null,
   "metadata": {},
   "outputs": [],
   "source": [
    "# AI solution\n",
    "\n",
    "def how_many_times_better_is_focused(df: pd.DataFrame) -> float:\n",
    "    \"\"\" Returns how many times better it is to focus than divide attention, by average \"\"\"\n",
    "    return (\n",
    "        df[df.attention == \"focused\"][\"score\"].mean() /\n",
    "        df[df.attention == \"divided\"][\"score\"].mean()\n",
    "    )\n",
    "\n",
    "def highest_average_solutions(df: pd.DataFrame) -> int:\n",
    "    \"\"\" Returns the solutions id with the highest average score \"\"\"\n",
    "    return (\n",
    "      df.solutions[\n",
    "        df.groupby(\"solutions\")[\"score\"]\n",
    "          .mean()\n",
    "          .agg([\"idxmax\"])\n",
    "      ]\n",
    "      .index[0]\n",
    "    )\n",
    "\n",
    "def top_10_scoring_subjects(df: pd.DataFrame) -> pd.DataFrame:\n",
    "    \"\"\" Returns df of top 10 subjects ranked by score, descending,\n",
    "        with ties broken by subject id ascending, index reset:\n",
    "        \n",
    "       subject     score\n",
    "    0       12  8.333333\n",
    "    1       14  7.666667\n",
    "    2       15  7.666667\n",
    "    3       16  7.000000\n",
    "    4       18  7.000000\n",
    "    5        8  6.666667\n",
    "    6       13  6.666667\n",
    "    7       17  6.666667\n",
    "    8        4  5.666667\n",
    "    9        5  5.666667\n",
    "    \"\"\"\n",
    "    return (\n",
    "      df.groupby(\"subject\")[\"score\"]\n",
    "        .mean()\n",
    "        .reset_index()\n",
    "        .sort_values([\"score\", \"subject\"], ascending=[0, 1])\n",
    "        .head(10)\n",
    "        .reset_index(drop=True)\n",
    "    )"
   ]
  }
 ],
 "metadata": {
  "kernelspec": {
   "display_name": "Python 3",
   "language": "python",
   "name": "python3"
  },
  "language_info": {
   "codemirror_mode": {
    "name": "ipython",
    "version": 3
   },
   "file_extension": ".py",
   "mimetype": "text/x-python",
   "name": "python",
   "nbconvert_exporter": "python",
   "pygments_lexer": "ipython3",
   "version": "3.12.4"
  }
 },
 "nbformat": 4,
 "nbformat_minor": 2
}
